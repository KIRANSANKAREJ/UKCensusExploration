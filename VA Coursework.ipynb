{
 "cells": [
  {
   "cell_type": "markdown",
   "id": "12064e7d-6e16-450f-b070-f39bc0c00cba",
   "metadata": {},
   "source": [
    "# Data Cleaning"
   ]
  },
  {
   "cell_type": "code",
   "execution_count": 1,
   "id": "787a6c0b-d8d3-446c-ae5c-dbe9da742f6b",
   "metadata": {},
   "outputs": [],
   "source": [
    "import pandas as pd\n",
    "import os, warnings, sys, re"
   ]
  },
  {
   "cell_type": "markdown",
   "id": "00484e9e-e8d9-4fcc-9b11-65ccfebc5533",
   "metadata": {},
   "source": [
    "## Function Definitions"
   ]
  },
  {
   "cell_type": "code",
   "execution_count": 2,
   "id": "54eecd5d-53f5-400b-b2a9-f149a7c098bd",
   "metadata": {},
   "outputs": [],
   "source": [
    "def to_Excel(cleaned_file_dict):\n",
    "    for key in list(cleaned_file_dict):\n",
    "        cleaned_file_dict[key].to_excel(\n",
    "            os.path.join(\n",
    "                data_path, \n",
    "                \"Cleaned Data\", \n",
    "                f\"{key}\"\n",
    "                ),\n",
    "            index=False,\n",
    "            sheet_name=key.split(\".\")[0]\n",
    "            )\n",
    "\n",
    "def clean_sheet(xlFile, sheet_name, filename):\n",
    "    '''\n",
    "    xlFile = ExcelFile object\n",
    "    sheet_name = Sheet name\n",
    "    name = Name of the table\n",
    "    '''\n",
    "    # Get args\n",
    "    if filename == \"DC4406EW\":\n",
    "        # Get the personsperroom metric\n",
    "        ppr = pd.read_excel(xlFile, sheet_name).iloc[6, 1]\n",
    "        # Get the accomodationtype metric\n",
    "        tenure = pd.read_excel(xlFile, sheet_name).iloc[5, 1]\n",
    "        # Setting skiprows\n",
    "        sr = 9\n",
    "        # Setting truncate\n",
    "        tr = -4\n",
    "        # Making insertable column dictionary\n",
    "        columnDict = {\n",
    "            \"tenure\" : \"Tenure\",\n",
    "            \"ppr\" : \"Persons per Room\"\n",
    "            }\n",
    "    elif filename == \"LC2121EW\":\n",
    "        # Get the ethnic group metric\n",
    "        eg = pd.read_excel(xlFile, sheet_name).iloc[5, 1]\n",
    "        sr = 8\n",
    "        tr = -1\n",
    "        columnDict = {\n",
    "            \"eg\" : \"Ethnic Group\"\n",
    "        }\n",
    "    elif filename == \"QS402EW\":\n",
    "        # Get the rural urban metric\n",
    "        ru = pd.read_excel(xlFile, sheet_name).iloc[5, 1]\n",
    "        sr = 8\n",
    "        tr = -1\n",
    "        columnDict = {\n",
    "            \"ru\" : \"Rural Urban\" \n",
    "        }\n",
    "    elif filename == \"RM139\":\n",
    "        ppr = pd.read_excel(xlFile, sheet_name).iloc[5, 1]\n",
    "        ten = pd.read_excel(xlFile, sheet_name).iloc[6, 1]\n",
    "        sr = 9\n",
    "        tr = -1\n",
    "        columnDict = {\n",
    "            \"ppr\" : \"Persons per Room\",\n",
    "            \"ten\" : \"Tenure\" \n",
    "        }\n",
    "    else:\n",
    "        return False\n",
    "    \n",
    "    # Get the full dataframe\n",
    "    df = pd.read_excel(xlFile, sheet_name, skiprows=sr)\n",
    "    df = df.dropna(how=\"all\", axis=1)  # Drop completely empty columns\n",
    "    df = df.dropna(how=\"all\", axis=0)  # Drop completely empty rows\n",
    "    \n",
    "    # Add new columns to concatenate tables\n",
    "    for item in columnDict.keys():\n",
    "        df.insert(0, columnDict[item], locals()[item])\n",
    "\n",
    "    # Rename Area code column\n",
    "    df.rename(columns={\"Unnamed: 1\": \"Areacode\"}, inplace=True)\n",
    "\n",
    "    # Truncate footers\n",
    "    df = df.iloc[:tr]\n",
    "    return df"
   ]
  },
  {
   "cell_type": "markdown",
   "id": "a722eddf-c6e8-46e3-9c30-332811dd5820",
   "metadata": {},
   "source": [
    "## Working Files and Directory Definitions"
   ]
  },
  {
   "cell_type": "code",
   "execution_count": 3,
   "id": "14c6dcc0-e279-4a72-a397-ee8a85663092",
   "metadata": {},
   "outputs": [],
   "source": [
    "# Current working directory\n",
    "cwd = os.getcwd()\n",
    "\n",
    "data_path = os.path.join(cwd, \"Data\")\n",
    "data_2011_path = os.path.join(data_path, \"2011 Census\")\n",
    "data_2021_path = os.path.join(data_path, \"2021 Census\")"
   ]
  },
  {
   "cell_type": "code",
   "execution_count": 4,
   "id": "230d486c-d2b6-4475-80e4-202ca741ec12",
   "metadata": {},
   "outputs": [],
   "source": [
    "# List of all files in Data\n",
    "files_2011 = os.listdir(data_2011_path)\n",
    "files_2021 = os.listdir(data_2021_path)"
   ]
  },
  {
   "cell_type": "code",
   "execution_count": 5,
   "id": "64855672-ccd6-46bc-bbf9-077237a2818e",
   "metadata": {},
   "outputs": [],
   "source": [
    "# Naming each file\n",
    "with warnings.catch_warnings():\n",
    "    warnings.simplefilter(\"ignore\")\n",
    "    RM139 = pd.ExcelFile(os.path.join(data_2021_path, files_2021[0]))\n",
    "    file_dict = dict()\n",
    "    for f in files_2011:\n",
    "        code = f.split(\" \")[0]\n",
    "        file_dict[code] = pd.ExcelFile(os.path.join(data_2011_path, f))"
   ]
  },
  {
   "cell_type": "code",
   "execution_count": 6,
   "id": "5fe66270-a4fa-493a-b14b-0531fd153bf4",
   "metadata": {},
   "outputs": [],
   "source": [
    "DC4406EW = file_dict['DC4406EW']\n",
    "LC2121EW = file_dict['LC2121EW']\n",
    "QS402EW = file_dict['QS402EW']"
   ]
  },
  {
   "cell_type": "markdown",
   "id": "97ab9417-a823-4c84-934c-6f9d62345071",
   "metadata": {},
   "source": [
    "## Cleaning Excel Files"
   ]
  },
  {
   "cell_type": "code",
   "execution_count": 7,
   "id": "deb300c3-64a4-4aa5-b1c8-2eff2173f2aa",
   "metadata": {},
   "outputs": [],
   "source": [
    "# cleaned_dfs contains all sheets of the document\n",
    "cleaned_DC4406EW = [\n",
    "    clean_sheet(\n",
    "        xlFile = DC4406EW, \n",
    "        sheet_name = sheet, \n",
    "        filename = \"DC4406EW\"\n",
    "        ) for sheet in DC4406EW.sheet_names\n",
    "        ]\n",
    "cleaned_LC2121EW = [\n",
    "    clean_sheet(\n",
    "        xlFile = LC2121EW, \n",
    "        sheet_name = sheet, \n",
    "        filename = \"LC2121EW\"\n",
    "        ) for sheet in LC2121EW.sheet_names\n",
    "        ]\n",
    "cleaned_QS402EW = [\n",
    "    clean_sheet(\n",
    "        xlFile = QS402EW, \n",
    "        sheet_name = sheet, \n",
    "        filename = \"QS402EW\"\n",
    "        ) for sheet in QS402EW.sheet_names\n",
    "        ]\n",
    "cleaned_RM139 = [\n",
    "    clean_sheet(\n",
    "        xlFile = RM139, \n",
    "        sheet_name = sheet, \n",
    "        filename = \"RM139\"\n",
    "        ) for sheet in RM139.sheet_names\n",
    "        ]"
   ]
  },
  {
   "cell_type": "code",
   "execution_count": 8,
   "id": "e7238fe9-d415-488d-ba11-ec74ead1f79c",
   "metadata": {},
   "outputs": [],
   "source": [
    "DC4406EW = pd.concat(cleaned_DC4406EW, ignore_index=True)\n",
    "LC2121EW = pd.concat(cleaned_LC2121EW, ignore_index=True)\n",
    "QS402EW = pd.concat(cleaned_QS402EW, ignore_index=True)\n",
    "RM139 = pd.concat(cleaned_RM139, ignore_index=True)"
   ]
  },
  {
   "cell_type": "code",
   "execution_count": 9,
   "id": "dc8a7832-afeb-42e1-8530-cf18810386c8",
   "metadata": {},
   "outputs": [],
   "source": [
    "DC4406EW.to_excel(\n",
    "    os.path.join(\n",
    "        data_path, \n",
    "        \"Cleaned Data\", \n",
    "        \"DC4406EW.xlsx\"),\n",
    "        index=False\n",
    "        )\n",
    "\n",
    "LC2121EW.to_excel(\n",
    "    os.path.join(\n",
    "        data_path, \n",
    "        \"Cleaned Data\", \n",
    "        \"LC2121EW.xlsx\"),\n",
    "        index=False\n",
    "        )\n",
    "\n",
    "QS402EW.to_excel(\n",
    "    os.path.join(\n",
    "        data_path, \n",
    "        \"Cleaned Data\", \n",
    "        \"QS402EW.xlsx\"),\n",
    "        index=False\n",
    "        )\n",
    "\n",
    "RM139.to_excel(\n",
    "    os.path.join(\n",
    "        data_path, \n",
    "        \"Cleaned Data\", \n",
    "        \"RM139.xlsx\"),\n",
    "        index=False\n",
    "        )"
   ]
  },
  {
   "cell_type": "code",
   "execution_count": 10,
   "id": "c167e8b5-73b7-4e7a-90f3-92fda035b243",
   "metadata": {},
   "outputs": [],
   "source": [
    "cleaned_path = os.path.join(data_path, \"Cleaned Data\")\n",
    "# List of all files in Cleaned Data\n",
    "cleaned = os.listdir(cleaned_path)"
   ]
  },
  {
   "cell_type": "code",
   "execution_count": 11,
   "id": "4e67b1b7-9ef3-4068-add9-efcb5f99afff",
   "metadata": {},
   "outputs": [
    {
     "name": "stdout",
     "output_type": "stream",
     "text": [
      "['BayesianPred.xlsx', 'DC4406EW.xlsx', 'Enriched.xlsx', 'Final_results.xlsx', 'LC2121EW.xlsx', 'merged_final.xlsx', 'QS402EW.xlsx', 'RM139.xlsx', 'summaryPredictions.xlsx']\n"
     ]
    }
   ],
   "source": [
    "print(cleaned)"
   ]
  },
  {
   "cell_type": "code",
   "execution_count": 12,
   "id": "dfdff161-747b-4292-b1d3-4d56e258b187",
   "metadata": {},
   "outputs": [],
   "source": [
    "# Naming each file\n",
    "with warnings.catch_warnings():\n",
    "    warnings.simplefilter(\"ignore\")\n",
    "    cleaned_file_dict = dict()\n",
    "    for f in cleaned:\n",
    "        cleaned_file_dict[f] = pd.read_excel(os.path.join(cleaned_path, f))"
   ]
  },
  {
   "cell_type": "code",
   "execution_count": 13,
   "id": "a1edbfa4-6562-43f9-9d2e-4896587b76b8",
   "metadata": {},
   "outputs": [],
   "source": [
    "# Print all column names\n",
    "def printColumns(cleaned_file_dict): \n",
    "    for key in list(cleaned_file_dict):\n",
    "        print(f\"Columns in {key}: \")\n",
    "        for column in list(cleaned_file_dict[key]):\n",
    "            print(column)\n",
    "        print(\"\\n\\n\")\n",
    "    return None"
   ]
  },
  {
   "cell_type": "code",
   "execution_count": 14,
   "id": "fd9bac81-605a-4120-928d-5a37d5dea3d2",
   "metadata": {},
   "outputs": [],
   "source": [
    "# Common Columns in all cleaned sets\n",
    "commonColumns = [\"local authority: district / unitary (prior to April 2015)\", \"Areacode\"]\n",
    "# Removing brackets from column names\n",
    "for key in list(cleaned_file_dict):\n",
    "    for column in list(cleaned_file_dict[key]):\n",
    "        newColumn = re.sub(r' \\(.*\\)', '', column)\n",
    "        cleaned_file_dict[key] = cleaned_file_dict[key].rename(\n",
    "            columns = {column: newColumn}\n",
    "        )"
   ]
  },
  {
   "cell_type": "markdown",
   "id": "8fcc3e09-2889-4277-b38f-28e84ff60769",
   "metadata": {},
   "source": [
    "## Columns in the Cleaned Files"
   ]
  },
  {
   "cell_type": "code",
   "execution_count": 15,
   "id": "3d19bb39-70d4-4bf3-ad04-4426cec45bed",
   "metadata": {},
   "outputs": [
    {
     "name": "stdout",
     "output_type": "stream",
     "text": [
      "Columns in BayesianPred.xlsx: \n",
      "Local Authority\n",
      "Actual Overcrowding Rate\n",
      "Predicted Overcrowding Rate\n",
      "Error\n",
      "\n",
      "\n",
      "\n",
      "Columns in DC4406EW.xlsx: \n",
      "Persons per Room\n",
      "Tenure\n",
      "local authority: district / unitary\n",
      "Areacode\n",
      "Whole house or bungalow: Total\n",
      "Whole house or bungalow: Detached\n",
      "Whole house or bungalow: Semi-detached\n",
      "Whole house or bungalow: Terraced\n",
      "Other: Total\n",
      "Other: Flat, maisonette or apartment in a purpose-built block of flats or tenement\n",
      "Other: Flat, maisonette or apartment that is part of a converted or shared house\n",
      "Other: Flat, maisonette or apartment in a commercial building, or mobile/temporary accommodation\n",
      "\n",
      "\n",
      "\n",
      "Columns in Enriched.xlsx: \n",
      "local authority: district / unitary\n",
      "Areacode\n",
      "Total Dwellings\n",
      "Overcrowded Dwellings\n",
      "Rural\n",
      "Urban\n",
      "tSNE-1\n",
      "tSNE-2\n",
      "UMAP-1\n",
      "UMAP-2\n",
      "UMAP Cluster\n",
      "tSNE Cluster\n",
      "Asian\n",
      "Black\n",
      "Mixed\n",
      "Other\n",
      "White\n",
      "Total Ethnic Dwellings\n",
      "Total Dwellings\n",
      "Urban\n",
      "Rural\n",
      "Overcrowding Rate\n",
      "Corr with Overcrowding\n",
      "Corr with Overcrowding\n",
      "Corr with Overcrowding\n",
      "Corr with Overcrowding\n",
      "Corr with Overcrowding\n",
      "\n",
      "\n",
      "\n",
      "Columns in Final_results.xlsx: \n",
      "Local Authority\n",
      "Year\n",
      "Overcrowding Rate\n",
      "Source\n",
      "\n",
      "\n",
      "\n",
      "Columns in LC2121EW.xlsx: \n",
      "Ethnic Group\n",
      "local authority: district / unitary\n",
      "Areacode\n",
      "Whole house or bungalow: Total\n",
      "Whole house or bungalow: Detached\n",
      "Whole house or bungalow: Semi-detached\n",
      "Whole house or bungalow: Terraced\n",
      "Flat, maisonette or apartment, or mobile/temporary accommodation\n",
      "\n",
      "\n",
      "\n",
      "Columns in merged_final.xlsx: \n",
      "local authority: district / unitary\n",
      "Areacode\n",
      "Total Dwellings\n",
      "Overcrowded Dwellings\n",
      "Asian/Asian British\n",
      "Black/African/Caribbean/Black British\n",
      "Mixed/multiple ethnic group\n",
      "Other ethnic group\n",
      "White: Total\n",
      "Rural\n",
      "Urban\n",
      "tSNE-1\n",
      "tSNE-2\n",
      "UMAP-1\n",
      "UMAP-2\n",
      "UMAP Cluster\n",
      "tSNE Cluster\n",
      "\n",
      "\n",
      "\n",
      "Columns in QS402EW.xlsx: \n",
      "Rural Urban\n",
      "local authority: district / unitary\n",
      "Areacode\n",
      "Unshared dwelling: Total\n",
      "Unshared dwelling: Whole house or bungalow: Total\n",
      "Unshared dwelling: Whole house or bungalow: Detached\n",
      "Unshared dwelling: Whole house or bungalow: Semi-detached\n",
      "Unshared dwelling: Whole house or bungalow: Terraced\n",
      "Unshared dwelling: Flat, maisonette or apartment: Total\n",
      "Unshared dwelling: Flat, maisonette or apartment: Purpose-built block of flats or tenement\n",
      "Unshared dwelling: Flat, maisonette or apartment: Part of a converted or shared house\n",
      "Unshared dwelling: Flat, maisonette or apartment: In commercial building\n",
      "Unshared dwelling: Caravan or other mobile or temporary structure\n",
      "Shared dwelling\n",
      "\n",
      "\n",
      "\n",
      "Columns in RM139.xlsx: \n",
      "Tenure\n",
      "Persons per Room\n",
      "local authority: district / unitary\n",
      "Areacode\n",
      "Whole house or bungalow\n",
      "Whole house or bungalow: Detached\n",
      "Whole house or bungalow: Semi-detached\n",
      "Whole house or bungalow: Terraced\n",
      "Flat, maisonette or apartment\n",
      "A caravan or other mobile or temporary structure\n",
      "\n",
      "\n",
      "\n",
      "Columns in summaryPredictions.xlsx: \n",
      "RMSE\n",
      "MAE\n",
      "R² Score\n",
      "Training Samples\n",
      "\n",
      "\n",
      "\n"
     ]
    }
   ],
   "source": [
    "printColumns(cleaned_file_dict)"
   ]
  },
  {
   "cell_type": "code",
   "execution_count": 16,
   "id": "e0f40bbd-9875-4248-a8f9-dde395dd69aa",
   "metadata": {},
   "outputs": [],
   "source": [
    "to_Excel(cleaned_file_dict)"
   ]
  },
  {
   "cell_type": "markdown",
   "id": "47e567a0-dcaa-4816-9b10-79ea0f45824f",
   "metadata": {},
   "source": [
    "# New Relevant Column Calculations and Summarisation"
   ]
  },
  {
   "cell_type": "code",
   "execution_count": 17,
   "id": "409fcf27-457b-4a1a-811e-e4f6d9d8668e",
   "metadata": {},
   "outputs": [],
   "source": [
    "dc_path = os.path.join(cleaned_path, \"DC4406EW.xlsx\")\n",
    "rm_path = os.path.join(cleaned_path, \"RM139.xlsx\")\n",
    "DC4406EW = pd.read_excel(dc_path)\n",
    "RM139 = pd.read_excel(rm_path)"
   ]
  },
  {
   "cell_type": "code",
   "execution_count": 18,
   "id": "3ad00121-ffe0-45dd-9c60-bc059471d140",
   "metadata": {},
   "outputs": [],
   "source": [
    "DC4406EW[\"Year\"] = 2011\n",
    "RM139[\"Year\"] = 2021"
   ]
  },
  {
   "cell_type": "code",
   "execution_count": 19,
   "id": "8d3a0c15-8ee9-4273-adda-b5c8d57fdddc",
   "metadata": {},
   "outputs": [],
   "source": [
    "DC4406EW.columns = DC4406EW.columns.str.strip()\n",
    "RM139.columns = RM139.columns.str.strip()"
   ]
  },
  {
   "cell_type": "code",
   "execution_count": 20,
   "id": "030acc01-98c4-4dff-a770-fc4e5f4c9714",
   "metadata": {},
   "outputs": [],
   "source": [
    "RM139[\"Other: Total\"] = (\n",
    "    RM139.get(\"Flat, maisonette or apartment\", 0).fillna(0) + \n",
    "    RM139.get(\"A caravan or other mobile or temporary structure\", 0).fillna(0)\n",
    ")\n",
    "    \n",
    "RM139 = RM139.drop(columns=[\n",
    "    \"Flat, maisonette or apartment\",\n",
    "    \"A caravan or other mobile or temporary structure\"\n",
    "], errors='ignore')"
   ]
  },
  {
   "cell_type": "code",
   "execution_count": 21,
   "id": "12b8b740-d696-404c-913c-46062e849630",
   "metadata": {},
   "outputs": [],
   "source": [
    "rename_2021 = {\n",
    "    \"Whole house or bungalow\": \"Whole house or bungalow: Total\",\n",
    "    \"Whole house or bungalow: Detached\": \"Whole house or bungalow: Detached\",\n",
    "    \"Whole house or bungalow: Semi-detached\": \"Whole house or bungalow: Semi-detached\",\n",
    "    \"Whole house or bungalow: Terraced\": \"Whole house or bungalow: Terraced\",\n",
    "    \"Flat, maisonette or apartment\": \"Other: Total\",\n",
    "    \"A caravan or other mobile or temporary structure\": \"Other: Flat, maisonette or apartment in a commercial building, or mobile/temporary accommodation\"\n",
    "}"
   ]
  },
  {
   "cell_type": "code",
   "execution_count": 22,
   "id": "2e2df2cf-8822-45ef-8d4a-fb8242313926",
   "metadata": {},
   "outputs": [],
   "source": [
    "category_mapping = {\n",
    "    'Up to and including 0.5 people per room': 'Up to 0.5 persons per room',\n",
    "    'Over 0.5 and up to 1.0 people per room': 'Over 0.5 and up to 1.0 persons per room',\n",
    "    'Over 1.0 and up to 1.5 people per room': 'Over 1.0 and up to 1.5 persons per room',\n",
    "    'Over 1.5 people per room': 'Over 1.5 persons per room',\n",
    "    'Up to 0.5 persons per room': 'Up to 0.5 persons per room',\n",
    "    'Over 0.5 and up to 1.0 persons per room': 'Over 0.5 and up to 1.0 persons per room',\n",
    "    'Over 1.0 and up to 1.5 persons per room': 'Over 1.0 and up to 1.5 persons per room',\n",
    "    'Over 1.5 persons per room': 'Over 1.5 persons per room'\n",
    "}"
   ]
  },
  {
   "cell_type": "code",
   "execution_count": 23,
   "id": "d8580b02-b5f8-44b7-b06a-b04437c22246",
   "metadata": {},
   "outputs": [],
   "source": [
    "DC4406EW[\"Persons per Room\"] = DC4406EW[\"Persons per Room\"].map(category_mapping)\n",
    "RM139[\"Persons per Room\"] = RM139[\"Persons per Room\"].map(category_mapping)"
   ]
  },
  {
   "cell_type": "code",
   "execution_count": 24,
   "id": "95eca0db-3091-45c0-8300-5b4078829187",
   "metadata": {},
   "outputs": [
    {
     "name": "stdout",
     "output_type": "stream",
     "text": [
      "['Whole house or bungalow: Terraced', 'Other: Total', 'Areacode', 'Whole house or bungalow: Detached', 'Tenure', 'Persons per Room', 'Year', 'Whole house or bungalow: Semi-detached', 'local authority: district / unitary']\n"
     ]
    }
   ],
   "source": [
    "common_cols = list(set(DC4406EW.columns).intersection(set(RM139.columns)))\n",
    "print(common_cols)"
   ]
  },
  {
   "cell_type": "code",
   "execution_count": 25,
   "id": "44dc32d8-ee02-4bd8-a92a-8b48f3a554cb",
   "metadata": {},
   "outputs": [],
   "source": [
    "DC4406EW = DC4406EW[common_cols]\n",
    "RM139 = RM139[common_cols]"
   ]
  },
  {
   "cell_type": "code",
   "execution_count": 26,
   "id": "0227ae22-99e4-43db-9832-a64e5bc28767",
   "metadata": {},
   "outputs": [],
   "source": [
    "combined_data = pd.concat([DC4406EW, RM139], ignore_index=True)"
   ]
  },
  {
   "cell_type": "code",
   "execution_count": 27,
   "id": "15188d72-1c1a-487e-af23-08bceb45d07d",
   "metadata": {},
   "outputs": [],
   "source": [
    "combined_data['Whole: Total'] = (\n",
    "    combined_data['Whole house or bungalow: Detached'] + \n",
    "    combined_data['Whole house or bungalow: Semi-detached'] + \n",
    "    combined_data['Whole house or bungalow: Terraced']\n",
    ")\n",
    "\n",
    "overcrowded = combined_data['Persons per Room'].isin([\n",
    "    'Over 1.0 and up to 1.5 persons per room',\n",
    "    'Over 1.5 persons per room'\n",
    "])\n",
    "combined_data['Total Dwellings'] = combined_data['Whole: Total'] + combined_data['Other: Total']"
   ]
  },
  {
   "cell_type": "code",
   "execution_count": 28,
   "id": "97193aa6-deff-4ca3-91e7-6b10b1584e17",
   "metadata": {},
   "outputs": [],
   "source": [
    "combined_data['Overcrowded Dwellings'] = combined_data['Total Dwellings'].where(overcrowded, 0)"
   ]
  },
  {
   "cell_type": "code",
   "execution_count": 29,
   "id": "37c50170-86f9-447a-a47f-03f5c2827b43",
   "metadata": {},
   "outputs": [],
   "source": [
    "summary_df = combined_data.groupby(['local authority: district / unitary', 'Year']).agg({\n",
    "    'Total Dwellings': 'sum',\n",
    "    'Overcrowded Dwellings': 'sum'\n",
    "}).reset_index()"
   ]
  },
  {
   "cell_type": "code",
   "execution_count": 30,
   "id": "a6d316cb-d53a-4dc9-91bb-bea6a6f4defb",
   "metadata": {},
   "outputs": [],
   "source": [
    "summary_df['Overcrowding Rate (%)'] = (\n",
    "    summary_df['Overcrowded Dwellings'] / summary_df['Total Dwellings']\n",
    ") * 100"
   ]
  },
  {
   "cell_type": "markdown",
   "id": "f148eeee-b4e9-4ec5-985f-9cd7c8a2bf17",
   "metadata": {},
   "source": [
    "## Linear Regression for Total Dwellings"
   ]
  },
  {
   "cell_type": "code",
   "execution_count": 31,
   "id": "cb22be8c-521e-4618-a52f-cb5f7b6f7c3d",
   "metadata": {},
   "outputs": [],
   "source": [
    "summary_df.columns = summary_df.columns.str.replace(r'\\s+', ' ', regex=True).str.strip()"
   ]
  },
  {
   "cell_type": "markdown",
   "id": "35562bb9-6c8b-4702-941d-495ffe937d11",
   "metadata": {},
   "source": [
    "### Split data for different column names"
   ]
  },
  {
   "cell_type": "code",
   "execution_count": 32,
   "id": "1f36e4dc-5946-478a-bb76-8795f73ed618",
   "metadata": {},
   "outputs": [],
   "source": [
    "df_2011 = summary_df[summary_df['Year'] == 2011][\n",
    "    ['local authority: district / unitary', 'Total Dwellings', 'Overcrowding Rate (%)']\n",
    "    ].copy()\n",
    "\n",
    "df_2011.columns = ['Local Authority', 'Total Dwellings 2011', 'Overcrowding Rate 2011']\n",
    "\n",
    "df_2021 = summary_df[summary_df['Year'] == 2021][\n",
    "    ['local authority: district / unitary', 'Total Dwellings']\n",
    "    ].copy()\n",
    "\n",
    "df_2021.columns = ['Local Authority', 'Total Dwellings 2021']"
   ]
  },
  {
   "cell_type": "code",
   "execution_count": 33,
   "id": "a2aea526-e71b-4d14-8406-4bf7e903f8b1",
   "metadata": {},
   "outputs": [],
   "source": [
    "df_merged = pd.merge(df_2011, df_2021, on='Local Authority', how='left')"
   ]
  },
  {
   "cell_type": "markdown",
   "id": "21c429f1-8d7d-4e33-b2cd-92a5401840ac",
   "metadata": {},
   "source": [
    "## Implement Linear Regression to predict missing Total Dwellings 2021"
   ]
  },
  {
   "cell_type": "code",
   "execution_count": 34,
   "id": "55d3da5d-5629-4aa6-a664-78ce250961b4",
   "metadata": {},
   "outputs": [],
   "source": [
    "from sklearn.linear_model import LinearRegression\n",
    "\n",
    "td_train = df_merged.dropna(subset=['Total Dwellings 2021'])\n",
    "X_td_train = td_train[['Total Dwellings 2011']]\n",
    "y_td_train = td_train['Total Dwellings 2021']"
   ]
  },
  {
   "cell_type": "code",
   "execution_count": 35,
   "id": "7223ddf2-44f3-431e-bdea-d8cd4f64cf32",
   "metadata": {},
   "outputs": [
    {
     "data": {
      "text/html": [
       "<style>#sk-container-id-1 {\n",
       "  /* Definition of color scheme common for light and dark mode */\n",
       "  --sklearn-color-text: #000;\n",
       "  --sklearn-color-text-muted: #666;\n",
       "  --sklearn-color-line: gray;\n",
       "  /* Definition of color scheme for unfitted estimators */\n",
       "  --sklearn-color-unfitted-level-0: #fff5e6;\n",
       "  --sklearn-color-unfitted-level-1: #f6e4d2;\n",
       "  --sklearn-color-unfitted-level-2: #ffe0b3;\n",
       "  --sklearn-color-unfitted-level-3: chocolate;\n",
       "  /* Definition of color scheme for fitted estimators */\n",
       "  --sklearn-color-fitted-level-0: #f0f8ff;\n",
       "  --sklearn-color-fitted-level-1: #d4ebff;\n",
       "  --sklearn-color-fitted-level-2: #b3dbfd;\n",
       "  --sklearn-color-fitted-level-3: cornflowerblue;\n",
       "\n",
       "  /* Specific color for light theme */\n",
       "  --sklearn-color-text-on-default-background: var(--sg-text-color, var(--theme-code-foreground, var(--jp-content-font-color1, black)));\n",
       "  --sklearn-color-background: var(--sg-background-color, var(--theme-background, var(--jp-layout-color0, white)));\n",
       "  --sklearn-color-border-box: var(--sg-text-color, var(--theme-code-foreground, var(--jp-content-font-color1, black)));\n",
       "  --sklearn-color-icon: #696969;\n",
       "\n",
       "  @media (prefers-color-scheme: dark) {\n",
       "    /* Redefinition of color scheme for dark theme */\n",
       "    --sklearn-color-text-on-default-background: var(--sg-text-color, var(--theme-code-foreground, var(--jp-content-font-color1, white)));\n",
       "    --sklearn-color-background: var(--sg-background-color, var(--theme-background, var(--jp-layout-color0, #111)));\n",
       "    --sklearn-color-border-box: var(--sg-text-color, var(--theme-code-foreground, var(--jp-content-font-color1, white)));\n",
       "    --sklearn-color-icon: #878787;\n",
       "  }\n",
       "}\n",
       "\n",
       "#sk-container-id-1 {\n",
       "  color: var(--sklearn-color-text);\n",
       "}\n",
       "\n",
       "#sk-container-id-1 pre {\n",
       "  padding: 0;\n",
       "}\n",
       "\n",
       "#sk-container-id-1 input.sk-hidden--visually {\n",
       "  border: 0;\n",
       "  clip: rect(1px 1px 1px 1px);\n",
       "  clip: rect(1px, 1px, 1px, 1px);\n",
       "  height: 1px;\n",
       "  margin: -1px;\n",
       "  overflow: hidden;\n",
       "  padding: 0;\n",
       "  position: absolute;\n",
       "  width: 1px;\n",
       "}\n",
       "\n",
       "#sk-container-id-1 div.sk-dashed-wrapped {\n",
       "  border: 1px dashed var(--sklearn-color-line);\n",
       "  margin: 0 0.4em 0.5em 0.4em;\n",
       "  box-sizing: border-box;\n",
       "  padding-bottom: 0.4em;\n",
       "  background-color: var(--sklearn-color-background);\n",
       "}\n",
       "\n",
       "#sk-container-id-1 div.sk-container {\n",
       "  /* jupyter's `normalize.less` sets `[hidden] { display: none; }`\n",
       "     but bootstrap.min.css set `[hidden] { display: none !important; }`\n",
       "     so we also need the `!important` here to be able to override the\n",
       "     default hidden behavior on the sphinx rendered scikit-learn.org.\n",
       "     See: https://github.com/scikit-learn/scikit-learn/issues/21755 */\n",
       "  display: inline-block !important;\n",
       "  position: relative;\n",
       "}\n",
       "\n",
       "#sk-container-id-1 div.sk-text-repr-fallback {\n",
       "  display: none;\n",
       "}\n",
       "\n",
       "div.sk-parallel-item,\n",
       "div.sk-serial,\n",
       "div.sk-item {\n",
       "  /* draw centered vertical line to link estimators */\n",
       "  background-image: linear-gradient(var(--sklearn-color-text-on-default-background), var(--sklearn-color-text-on-default-background));\n",
       "  background-size: 2px 100%;\n",
       "  background-repeat: no-repeat;\n",
       "  background-position: center center;\n",
       "}\n",
       "\n",
       "/* Parallel-specific style estimator block */\n",
       "\n",
       "#sk-container-id-1 div.sk-parallel-item::after {\n",
       "  content: \"\";\n",
       "  width: 100%;\n",
       "  border-bottom: 2px solid var(--sklearn-color-text-on-default-background);\n",
       "  flex-grow: 1;\n",
       "}\n",
       "\n",
       "#sk-container-id-1 div.sk-parallel {\n",
       "  display: flex;\n",
       "  align-items: stretch;\n",
       "  justify-content: center;\n",
       "  background-color: var(--sklearn-color-background);\n",
       "  position: relative;\n",
       "}\n",
       "\n",
       "#sk-container-id-1 div.sk-parallel-item {\n",
       "  display: flex;\n",
       "  flex-direction: column;\n",
       "}\n",
       "\n",
       "#sk-container-id-1 div.sk-parallel-item:first-child::after {\n",
       "  align-self: flex-end;\n",
       "  width: 50%;\n",
       "}\n",
       "\n",
       "#sk-container-id-1 div.sk-parallel-item:last-child::after {\n",
       "  align-self: flex-start;\n",
       "  width: 50%;\n",
       "}\n",
       "\n",
       "#sk-container-id-1 div.sk-parallel-item:only-child::after {\n",
       "  width: 0;\n",
       "}\n",
       "\n",
       "/* Serial-specific style estimator block */\n",
       "\n",
       "#sk-container-id-1 div.sk-serial {\n",
       "  display: flex;\n",
       "  flex-direction: column;\n",
       "  align-items: center;\n",
       "  background-color: var(--sklearn-color-background);\n",
       "  padding-right: 1em;\n",
       "  padding-left: 1em;\n",
       "}\n",
       "\n",
       "\n",
       "/* Toggleable style: style used for estimator/Pipeline/ColumnTransformer box that is\n",
       "clickable and can be expanded/collapsed.\n",
       "- Pipeline and ColumnTransformer use this feature and define the default style\n",
       "- Estimators will overwrite some part of the style using the `sk-estimator` class\n",
       "*/\n",
       "\n",
       "/* Pipeline and ColumnTransformer style (default) */\n",
       "\n",
       "#sk-container-id-1 div.sk-toggleable {\n",
       "  /* Default theme specific background. It is overwritten whether we have a\n",
       "  specific estimator or a Pipeline/ColumnTransformer */\n",
       "  background-color: var(--sklearn-color-background);\n",
       "}\n",
       "\n",
       "/* Toggleable label */\n",
       "#sk-container-id-1 label.sk-toggleable__label {\n",
       "  cursor: pointer;\n",
       "  display: flex;\n",
       "  width: 100%;\n",
       "  margin-bottom: 0;\n",
       "  padding: 0.5em;\n",
       "  box-sizing: border-box;\n",
       "  text-align: center;\n",
       "  align-items: start;\n",
       "  justify-content: space-between;\n",
       "  gap: 0.5em;\n",
       "}\n",
       "\n",
       "#sk-container-id-1 label.sk-toggleable__label .caption {\n",
       "  font-size: 0.6rem;\n",
       "  font-weight: lighter;\n",
       "  color: var(--sklearn-color-text-muted);\n",
       "}\n",
       "\n",
       "#sk-container-id-1 label.sk-toggleable__label-arrow:before {\n",
       "  /* Arrow on the left of the label */\n",
       "  content: \"▸\";\n",
       "  float: left;\n",
       "  margin-right: 0.25em;\n",
       "  color: var(--sklearn-color-icon);\n",
       "}\n",
       "\n",
       "#sk-container-id-1 label.sk-toggleable__label-arrow:hover:before {\n",
       "  color: var(--sklearn-color-text);\n",
       "}\n",
       "\n",
       "/* Toggleable content - dropdown */\n",
       "\n",
       "#sk-container-id-1 div.sk-toggleable__content {\n",
       "  max-height: 0;\n",
       "  max-width: 0;\n",
       "  overflow: hidden;\n",
       "  text-align: left;\n",
       "  /* unfitted */\n",
       "  background-color: var(--sklearn-color-unfitted-level-0);\n",
       "}\n",
       "\n",
       "#sk-container-id-1 div.sk-toggleable__content.fitted {\n",
       "  /* fitted */\n",
       "  background-color: var(--sklearn-color-fitted-level-0);\n",
       "}\n",
       "\n",
       "#sk-container-id-1 div.sk-toggleable__content pre {\n",
       "  margin: 0.2em;\n",
       "  border-radius: 0.25em;\n",
       "  color: var(--sklearn-color-text);\n",
       "  /* unfitted */\n",
       "  background-color: var(--sklearn-color-unfitted-level-0);\n",
       "}\n",
       "\n",
       "#sk-container-id-1 div.sk-toggleable__content.fitted pre {\n",
       "  /* unfitted */\n",
       "  background-color: var(--sklearn-color-fitted-level-0);\n",
       "}\n",
       "\n",
       "#sk-container-id-1 input.sk-toggleable__control:checked~div.sk-toggleable__content {\n",
       "  /* Expand drop-down */\n",
       "  max-height: 200px;\n",
       "  max-width: 100%;\n",
       "  overflow: auto;\n",
       "}\n",
       "\n",
       "#sk-container-id-1 input.sk-toggleable__control:checked~label.sk-toggleable__label-arrow:before {\n",
       "  content: \"▾\";\n",
       "}\n",
       "\n",
       "/* Pipeline/ColumnTransformer-specific style */\n",
       "\n",
       "#sk-container-id-1 div.sk-label input.sk-toggleable__control:checked~label.sk-toggleable__label {\n",
       "  color: var(--sklearn-color-text);\n",
       "  background-color: var(--sklearn-color-unfitted-level-2);\n",
       "}\n",
       "\n",
       "#sk-container-id-1 div.sk-label.fitted input.sk-toggleable__control:checked~label.sk-toggleable__label {\n",
       "  background-color: var(--sklearn-color-fitted-level-2);\n",
       "}\n",
       "\n",
       "/* Estimator-specific style */\n",
       "\n",
       "/* Colorize estimator box */\n",
       "#sk-container-id-1 div.sk-estimator input.sk-toggleable__control:checked~label.sk-toggleable__label {\n",
       "  /* unfitted */\n",
       "  background-color: var(--sklearn-color-unfitted-level-2);\n",
       "}\n",
       "\n",
       "#sk-container-id-1 div.sk-estimator.fitted input.sk-toggleable__control:checked~label.sk-toggleable__label {\n",
       "  /* fitted */\n",
       "  background-color: var(--sklearn-color-fitted-level-2);\n",
       "}\n",
       "\n",
       "#sk-container-id-1 div.sk-label label.sk-toggleable__label,\n",
       "#sk-container-id-1 div.sk-label label {\n",
       "  /* The background is the default theme color */\n",
       "  color: var(--sklearn-color-text-on-default-background);\n",
       "}\n",
       "\n",
       "/* On hover, darken the color of the background */\n",
       "#sk-container-id-1 div.sk-label:hover label.sk-toggleable__label {\n",
       "  color: var(--sklearn-color-text);\n",
       "  background-color: var(--sklearn-color-unfitted-level-2);\n",
       "}\n",
       "\n",
       "/* Label box, darken color on hover, fitted */\n",
       "#sk-container-id-1 div.sk-label.fitted:hover label.sk-toggleable__label.fitted {\n",
       "  color: var(--sklearn-color-text);\n",
       "  background-color: var(--sklearn-color-fitted-level-2);\n",
       "}\n",
       "\n",
       "/* Estimator label */\n",
       "\n",
       "#sk-container-id-1 div.sk-label label {\n",
       "  font-family: monospace;\n",
       "  font-weight: bold;\n",
       "  display: inline-block;\n",
       "  line-height: 1.2em;\n",
       "}\n",
       "\n",
       "#sk-container-id-1 div.sk-label-container {\n",
       "  text-align: center;\n",
       "}\n",
       "\n",
       "/* Estimator-specific */\n",
       "#sk-container-id-1 div.sk-estimator {\n",
       "  font-family: monospace;\n",
       "  border: 1px dotted var(--sklearn-color-border-box);\n",
       "  border-radius: 0.25em;\n",
       "  box-sizing: border-box;\n",
       "  margin-bottom: 0.5em;\n",
       "  /* unfitted */\n",
       "  background-color: var(--sklearn-color-unfitted-level-0);\n",
       "}\n",
       "\n",
       "#sk-container-id-1 div.sk-estimator.fitted {\n",
       "  /* fitted */\n",
       "  background-color: var(--sklearn-color-fitted-level-0);\n",
       "}\n",
       "\n",
       "/* on hover */\n",
       "#sk-container-id-1 div.sk-estimator:hover {\n",
       "  /* unfitted */\n",
       "  background-color: var(--sklearn-color-unfitted-level-2);\n",
       "}\n",
       "\n",
       "#sk-container-id-1 div.sk-estimator.fitted:hover {\n",
       "  /* fitted */\n",
       "  background-color: var(--sklearn-color-fitted-level-2);\n",
       "}\n",
       "\n",
       "/* Specification for estimator info (e.g. \"i\" and \"?\") */\n",
       "\n",
       "/* Common style for \"i\" and \"?\" */\n",
       "\n",
       ".sk-estimator-doc-link,\n",
       "a:link.sk-estimator-doc-link,\n",
       "a:visited.sk-estimator-doc-link {\n",
       "  float: right;\n",
       "  font-size: smaller;\n",
       "  line-height: 1em;\n",
       "  font-family: monospace;\n",
       "  background-color: var(--sklearn-color-background);\n",
       "  border-radius: 1em;\n",
       "  height: 1em;\n",
       "  width: 1em;\n",
       "  text-decoration: none !important;\n",
       "  margin-left: 0.5em;\n",
       "  text-align: center;\n",
       "  /* unfitted */\n",
       "  border: var(--sklearn-color-unfitted-level-1) 1pt solid;\n",
       "  color: var(--sklearn-color-unfitted-level-1);\n",
       "}\n",
       "\n",
       ".sk-estimator-doc-link.fitted,\n",
       "a:link.sk-estimator-doc-link.fitted,\n",
       "a:visited.sk-estimator-doc-link.fitted {\n",
       "  /* fitted */\n",
       "  border: var(--sklearn-color-fitted-level-1) 1pt solid;\n",
       "  color: var(--sklearn-color-fitted-level-1);\n",
       "}\n",
       "\n",
       "/* On hover */\n",
       "div.sk-estimator:hover .sk-estimator-doc-link:hover,\n",
       ".sk-estimator-doc-link:hover,\n",
       "div.sk-label-container:hover .sk-estimator-doc-link:hover,\n",
       ".sk-estimator-doc-link:hover {\n",
       "  /* unfitted */\n",
       "  background-color: var(--sklearn-color-unfitted-level-3);\n",
       "  color: var(--sklearn-color-background);\n",
       "  text-decoration: none;\n",
       "}\n",
       "\n",
       "div.sk-estimator.fitted:hover .sk-estimator-doc-link.fitted:hover,\n",
       ".sk-estimator-doc-link.fitted:hover,\n",
       "div.sk-label-container:hover .sk-estimator-doc-link.fitted:hover,\n",
       ".sk-estimator-doc-link.fitted:hover {\n",
       "  /* fitted */\n",
       "  background-color: var(--sklearn-color-fitted-level-3);\n",
       "  color: var(--sklearn-color-background);\n",
       "  text-decoration: none;\n",
       "}\n",
       "\n",
       "/* Span, style for the box shown on hovering the info icon */\n",
       ".sk-estimator-doc-link span {\n",
       "  display: none;\n",
       "  z-index: 9999;\n",
       "  position: relative;\n",
       "  font-weight: normal;\n",
       "  right: .2ex;\n",
       "  padding: .5ex;\n",
       "  margin: .5ex;\n",
       "  width: min-content;\n",
       "  min-width: 20ex;\n",
       "  max-width: 50ex;\n",
       "  color: var(--sklearn-color-text);\n",
       "  box-shadow: 2pt 2pt 4pt #999;\n",
       "  /* unfitted */\n",
       "  background: var(--sklearn-color-unfitted-level-0);\n",
       "  border: .5pt solid var(--sklearn-color-unfitted-level-3);\n",
       "}\n",
       "\n",
       ".sk-estimator-doc-link.fitted span {\n",
       "  /* fitted */\n",
       "  background: var(--sklearn-color-fitted-level-0);\n",
       "  border: var(--sklearn-color-fitted-level-3);\n",
       "}\n",
       "\n",
       ".sk-estimator-doc-link:hover span {\n",
       "  display: block;\n",
       "}\n",
       "\n",
       "/* \"?\"-specific style due to the `<a>` HTML tag */\n",
       "\n",
       "#sk-container-id-1 a.estimator_doc_link {\n",
       "  float: right;\n",
       "  font-size: 1rem;\n",
       "  line-height: 1em;\n",
       "  font-family: monospace;\n",
       "  background-color: var(--sklearn-color-background);\n",
       "  border-radius: 1rem;\n",
       "  height: 1rem;\n",
       "  width: 1rem;\n",
       "  text-decoration: none;\n",
       "  /* unfitted */\n",
       "  color: var(--sklearn-color-unfitted-level-1);\n",
       "  border: var(--sklearn-color-unfitted-level-1) 1pt solid;\n",
       "}\n",
       "\n",
       "#sk-container-id-1 a.estimator_doc_link.fitted {\n",
       "  /* fitted */\n",
       "  border: var(--sklearn-color-fitted-level-1) 1pt solid;\n",
       "  color: var(--sklearn-color-fitted-level-1);\n",
       "}\n",
       "\n",
       "/* On hover */\n",
       "#sk-container-id-1 a.estimator_doc_link:hover {\n",
       "  /* unfitted */\n",
       "  background-color: var(--sklearn-color-unfitted-level-3);\n",
       "  color: var(--sklearn-color-background);\n",
       "  text-decoration: none;\n",
       "}\n",
       "\n",
       "#sk-container-id-1 a.estimator_doc_link.fitted:hover {\n",
       "  /* fitted */\n",
       "  background-color: var(--sklearn-color-fitted-level-3);\n",
       "}\n",
       "</style><div id=\"sk-container-id-1\" class=\"sk-top-container\"><div class=\"sk-text-repr-fallback\"><pre>LinearRegression()</pre><b>In a Jupyter environment, please rerun this cell to show the HTML representation or trust the notebook. <br />On GitHub, the HTML representation is unable to render, please try loading this page with nbviewer.org.</b></div><div class=\"sk-container\" hidden><div class=\"sk-item\"><div class=\"sk-estimator fitted sk-toggleable\"><input class=\"sk-toggleable__control sk-hidden--visually\" id=\"sk-estimator-id-1\" type=\"checkbox\" checked><label for=\"sk-estimator-id-1\" class=\"sk-toggleable__label fitted sk-toggleable__label-arrow\"><div><div>LinearRegression</div></div><div><a class=\"sk-estimator-doc-link fitted\" rel=\"noreferrer\" target=\"_blank\" href=\"https://scikit-learn.org/1.6/modules/generated/sklearn.linear_model.LinearRegression.html\">?<span>Documentation for LinearRegression</span></a><span class=\"sk-estimator-doc-link fitted\">i<span>Fitted</span></span></div></label><div class=\"sk-toggleable__content fitted\"><pre>LinearRegression()</pre></div> </div></div></div></div>"
      ],
      "text/plain": [
       "LinearRegression()"
      ]
     },
     "execution_count": 35,
     "metadata": {},
     "output_type": "execute_result"
    }
   ],
   "source": [
    "td_model = LinearRegression()\n",
    "td_model.fit(X_td_train, y_td_train)"
   ]
  },
  {
   "cell_type": "code",
   "execution_count": 36,
   "id": "d4e0fdca-ff2c-44ba-a5d0-613954314de6",
   "metadata": {},
   "outputs": [],
   "source": [
    "df_merged['Predicted TD 2021'] = td_model.predict(df_merged[['Total Dwellings 2011']])\n",
    "df_merged['Final TD 2021'] = df_merged['Total Dwellings 2021']\n",
    "df_merged.loc[df_merged['Final TD 2021'].isnull(), 'Final TD 2021'] = df_merged['Predicted TD 2021']"
   ]
  },
  {
   "cell_type": "markdown",
   "id": "385c4422-a2fd-4dd6-a5bb-76858aa9d30a",
   "metadata": {},
   "source": [
    "## Bayesian Ridge Regression for Overcrowding"
   ]
  },
  {
   "cell_type": "markdown",
   "id": "9858c544-87cc-4ed8-8b60-9d47afce970d",
   "metadata": {},
   "source": [
    "### Merge the results from Linear Regression"
   ]
  },
  {
   "cell_type": "code",
   "execution_count": 37,
   "id": "dc3a985b-fe16-446c-b04f-4453c1e47e3d",
   "metadata": {},
   "outputs": [],
   "source": [
    "df_final_input = pd.merge(\n",
    "    df_2011[['Local Authority', 'Total Dwellings 2011', 'Overcrowding Rate 2011']],\n",
    "    df_merged[['Local Authority', 'Final TD 2021']],\n",
    "    on='Local Authority',\n",
    "    how='left'\n",
    ")"
   ]
  },
  {
   "cell_type": "markdown",
   "id": "5c2c5fca-17d6-47aa-89ed-33794eb5c9f6",
   "metadata": {},
   "source": [
    "### Training data prep"
   ]
  },
  {
   "cell_type": "code",
   "execution_count": 38,
   "id": "ccc00642-c30b-4711-b6c6-3f8783eb667e",
   "metadata": {},
   "outputs": [],
   "source": [
    "df_2021_full = summary_df[summary_df['Year'] == 2021][\n",
    "    ['local authority: district / unitary', 'Overcrowding Rate (%)']\n",
    "].rename(columns={\n",
    "    'local authority: district / unitary': 'Local Authority',\n",
    "    'Overcrowding Rate (%)': 'Overcrowding Rate 2021'\n",
    "})\n",
    "\n",
    "df_final_input = pd.merge(df_final_input, df_2021_full, on='Local Authority', how='left')"
   ]
  },
  {
   "cell_type": "code",
   "execution_count": 39,
   "id": "36a2b410-aed4-4b0f-8317-cc1cbbf567c0",
   "metadata": {},
   "outputs": [],
   "source": [
    "train_data = df_final_input.dropna(subset=['Overcrowding Rate 2021'])\n",
    "X_train = train_data[['Overcrowding Rate 2011', 'Final TD 2021']]\n",
    "y_train = train_data['Overcrowding Rate 2021']"
   ]
  },
  {
   "cell_type": "markdown",
   "id": "98ab12b1-f748-476d-b276-d69dea180b64",
   "metadata": {},
   "source": [
    "## Bayesian Ridge Regression Implementation"
   ]
  },
  {
   "cell_type": "code",
   "execution_count": 40,
   "id": "a74ff52a-0e5f-4e82-a757-dc1ca8444677",
   "metadata": {},
   "outputs": [
    {
     "data": {
      "text/html": [
       "<style>#sk-container-id-2 {\n",
       "  /* Definition of color scheme common for light and dark mode */\n",
       "  --sklearn-color-text: #000;\n",
       "  --sklearn-color-text-muted: #666;\n",
       "  --sklearn-color-line: gray;\n",
       "  /* Definition of color scheme for unfitted estimators */\n",
       "  --sklearn-color-unfitted-level-0: #fff5e6;\n",
       "  --sklearn-color-unfitted-level-1: #f6e4d2;\n",
       "  --sklearn-color-unfitted-level-2: #ffe0b3;\n",
       "  --sklearn-color-unfitted-level-3: chocolate;\n",
       "  /* Definition of color scheme for fitted estimators */\n",
       "  --sklearn-color-fitted-level-0: #f0f8ff;\n",
       "  --sklearn-color-fitted-level-1: #d4ebff;\n",
       "  --sklearn-color-fitted-level-2: #b3dbfd;\n",
       "  --sklearn-color-fitted-level-3: cornflowerblue;\n",
       "\n",
       "  /* Specific color for light theme */\n",
       "  --sklearn-color-text-on-default-background: var(--sg-text-color, var(--theme-code-foreground, var(--jp-content-font-color1, black)));\n",
       "  --sklearn-color-background: var(--sg-background-color, var(--theme-background, var(--jp-layout-color0, white)));\n",
       "  --sklearn-color-border-box: var(--sg-text-color, var(--theme-code-foreground, var(--jp-content-font-color1, black)));\n",
       "  --sklearn-color-icon: #696969;\n",
       "\n",
       "  @media (prefers-color-scheme: dark) {\n",
       "    /* Redefinition of color scheme for dark theme */\n",
       "    --sklearn-color-text-on-default-background: var(--sg-text-color, var(--theme-code-foreground, var(--jp-content-font-color1, white)));\n",
       "    --sklearn-color-background: var(--sg-background-color, var(--theme-background, var(--jp-layout-color0, #111)));\n",
       "    --sklearn-color-border-box: var(--sg-text-color, var(--theme-code-foreground, var(--jp-content-font-color1, white)));\n",
       "    --sklearn-color-icon: #878787;\n",
       "  }\n",
       "}\n",
       "\n",
       "#sk-container-id-2 {\n",
       "  color: var(--sklearn-color-text);\n",
       "}\n",
       "\n",
       "#sk-container-id-2 pre {\n",
       "  padding: 0;\n",
       "}\n",
       "\n",
       "#sk-container-id-2 input.sk-hidden--visually {\n",
       "  border: 0;\n",
       "  clip: rect(1px 1px 1px 1px);\n",
       "  clip: rect(1px, 1px, 1px, 1px);\n",
       "  height: 1px;\n",
       "  margin: -1px;\n",
       "  overflow: hidden;\n",
       "  padding: 0;\n",
       "  position: absolute;\n",
       "  width: 1px;\n",
       "}\n",
       "\n",
       "#sk-container-id-2 div.sk-dashed-wrapped {\n",
       "  border: 1px dashed var(--sklearn-color-line);\n",
       "  margin: 0 0.4em 0.5em 0.4em;\n",
       "  box-sizing: border-box;\n",
       "  padding-bottom: 0.4em;\n",
       "  background-color: var(--sklearn-color-background);\n",
       "}\n",
       "\n",
       "#sk-container-id-2 div.sk-container {\n",
       "  /* jupyter's `normalize.less` sets `[hidden] { display: none; }`\n",
       "     but bootstrap.min.css set `[hidden] { display: none !important; }`\n",
       "     so we also need the `!important` here to be able to override the\n",
       "     default hidden behavior on the sphinx rendered scikit-learn.org.\n",
       "     See: https://github.com/scikit-learn/scikit-learn/issues/21755 */\n",
       "  display: inline-block !important;\n",
       "  position: relative;\n",
       "}\n",
       "\n",
       "#sk-container-id-2 div.sk-text-repr-fallback {\n",
       "  display: none;\n",
       "}\n",
       "\n",
       "div.sk-parallel-item,\n",
       "div.sk-serial,\n",
       "div.sk-item {\n",
       "  /* draw centered vertical line to link estimators */\n",
       "  background-image: linear-gradient(var(--sklearn-color-text-on-default-background), var(--sklearn-color-text-on-default-background));\n",
       "  background-size: 2px 100%;\n",
       "  background-repeat: no-repeat;\n",
       "  background-position: center center;\n",
       "}\n",
       "\n",
       "/* Parallel-specific style estimator block */\n",
       "\n",
       "#sk-container-id-2 div.sk-parallel-item::after {\n",
       "  content: \"\";\n",
       "  width: 100%;\n",
       "  border-bottom: 2px solid var(--sklearn-color-text-on-default-background);\n",
       "  flex-grow: 1;\n",
       "}\n",
       "\n",
       "#sk-container-id-2 div.sk-parallel {\n",
       "  display: flex;\n",
       "  align-items: stretch;\n",
       "  justify-content: center;\n",
       "  background-color: var(--sklearn-color-background);\n",
       "  position: relative;\n",
       "}\n",
       "\n",
       "#sk-container-id-2 div.sk-parallel-item {\n",
       "  display: flex;\n",
       "  flex-direction: column;\n",
       "}\n",
       "\n",
       "#sk-container-id-2 div.sk-parallel-item:first-child::after {\n",
       "  align-self: flex-end;\n",
       "  width: 50%;\n",
       "}\n",
       "\n",
       "#sk-container-id-2 div.sk-parallel-item:last-child::after {\n",
       "  align-self: flex-start;\n",
       "  width: 50%;\n",
       "}\n",
       "\n",
       "#sk-container-id-2 div.sk-parallel-item:only-child::after {\n",
       "  width: 0;\n",
       "}\n",
       "\n",
       "/* Serial-specific style estimator block */\n",
       "\n",
       "#sk-container-id-2 div.sk-serial {\n",
       "  display: flex;\n",
       "  flex-direction: column;\n",
       "  align-items: center;\n",
       "  background-color: var(--sklearn-color-background);\n",
       "  padding-right: 1em;\n",
       "  padding-left: 1em;\n",
       "}\n",
       "\n",
       "\n",
       "/* Toggleable style: style used for estimator/Pipeline/ColumnTransformer box that is\n",
       "clickable and can be expanded/collapsed.\n",
       "- Pipeline and ColumnTransformer use this feature and define the default style\n",
       "- Estimators will overwrite some part of the style using the `sk-estimator` class\n",
       "*/\n",
       "\n",
       "/* Pipeline and ColumnTransformer style (default) */\n",
       "\n",
       "#sk-container-id-2 div.sk-toggleable {\n",
       "  /* Default theme specific background. It is overwritten whether we have a\n",
       "  specific estimator or a Pipeline/ColumnTransformer */\n",
       "  background-color: var(--sklearn-color-background);\n",
       "}\n",
       "\n",
       "/* Toggleable label */\n",
       "#sk-container-id-2 label.sk-toggleable__label {\n",
       "  cursor: pointer;\n",
       "  display: flex;\n",
       "  width: 100%;\n",
       "  margin-bottom: 0;\n",
       "  padding: 0.5em;\n",
       "  box-sizing: border-box;\n",
       "  text-align: center;\n",
       "  align-items: start;\n",
       "  justify-content: space-between;\n",
       "  gap: 0.5em;\n",
       "}\n",
       "\n",
       "#sk-container-id-2 label.sk-toggleable__label .caption {\n",
       "  font-size: 0.6rem;\n",
       "  font-weight: lighter;\n",
       "  color: var(--sklearn-color-text-muted);\n",
       "}\n",
       "\n",
       "#sk-container-id-2 label.sk-toggleable__label-arrow:before {\n",
       "  /* Arrow on the left of the label */\n",
       "  content: \"▸\";\n",
       "  float: left;\n",
       "  margin-right: 0.25em;\n",
       "  color: var(--sklearn-color-icon);\n",
       "}\n",
       "\n",
       "#sk-container-id-2 label.sk-toggleable__label-arrow:hover:before {\n",
       "  color: var(--sklearn-color-text);\n",
       "}\n",
       "\n",
       "/* Toggleable content - dropdown */\n",
       "\n",
       "#sk-container-id-2 div.sk-toggleable__content {\n",
       "  max-height: 0;\n",
       "  max-width: 0;\n",
       "  overflow: hidden;\n",
       "  text-align: left;\n",
       "  /* unfitted */\n",
       "  background-color: var(--sklearn-color-unfitted-level-0);\n",
       "}\n",
       "\n",
       "#sk-container-id-2 div.sk-toggleable__content.fitted {\n",
       "  /* fitted */\n",
       "  background-color: var(--sklearn-color-fitted-level-0);\n",
       "}\n",
       "\n",
       "#sk-container-id-2 div.sk-toggleable__content pre {\n",
       "  margin: 0.2em;\n",
       "  border-radius: 0.25em;\n",
       "  color: var(--sklearn-color-text);\n",
       "  /* unfitted */\n",
       "  background-color: var(--sklearn-color-unfitted-level-0);\n",
       "}\n",
       "\n",
       "#sk-container-id-2 div.sk-toggleable__content.fitted pre {\n",
       "  /* unfitted */\n",
       "  background-color: var(--sklearn-color-fitted-level-0);\n",
       "}\n",
       "\n",
       "#sk-container-id-2 input.sk-toggleable__control:checked~div.sk-toggleable__content {\n",
       "  /* Expand drop-down */\n",
       "  max-height: 200px;\n",
       "  max-width: 100%;\n",
       "  overflow: auto;\n",
       "}\n",
       "\n",
       "#sk-container-id-2 input.sk-toggleable__control:checked~label.sk-toggleable__label-arrow:before {\n",
       "  content: \"▾\";\n",
       "}\n",
       "\n",
       "/* Pipeline/ColumnTransformer-specific style */\n",
       "\n",
       "#sk-container-id-2 div.sk-label input.sk-toggleable__control:checked~label.sk-toggleable__label {\n",
       "  color: var(--sklearn-color-text);\n",
       "  background-color: var(--sklearn-color-unfitted-level-2);\n",
       "}\n",
       "\n",
       "#sk-container-id-2 div.sk-label.fitted input.sk-toggleable__control:checked~label.sk-toggleable__label {\n",
       "  background-color: var(--sklearn-color-fitted-level-2);\n",
       "}\n",
       "\n",
       "/* Estimator-specific style */\n",
       "\n",
       "/* Colorize estimator box */\n",
       "#sk-container-id-2 div.sk-estimator input.sk-toggleable__control:checked~label.sk-toggleable__label {\n",
       "  /* unfitted */\n",
       "  background-color: var(--sklearn-color-unfitted-level-2);\n",
       "}\n",
       "\n",
       "#sk-container-id-2 div.sk-estimator.fitted input.sk-toggleable__control:checked~label.sk-toggleable__label {\n",
       "  /* fitted */\n",
       "  background-color: var(--sklearn-color-fitted-level-2);\n",
       "}\n",
       "\n",
       "#sk-container-id-2 div.sk-label label.sk-toggleable__label,\n",
       "#sk-container-id-2 div.sk-label label {\n",
       "  /* The background is the default theme color */\n",
       "  color: var(--sklearn-color-text-on-default-background);\n",
       "}\n",
       "\n",
       "/* On hover, darken the color of the background */\n",
       "#sk-container-id-2 div.sk-label:hover label.sk-toggleable__label {\n",
       "  color: var(--sklearn-color-text);\n",
       "  background-color: var(--sklearn-color-unfitted-level-2);\n",
       "}\n",
       "\n",
       "/* Label box, darken color on hover, fitted */\n",
       "#sk-container-id-2 div.sk-label.fitted:hover label.sk-toggleable__label.fitted {\n",
       "  color: var(--sklearn-color-text);\n",
       "  background-color: var(--sklearn-color-fitted-level-2);\n",
       "}\n",
       "\n",
       "/* Estimator label */\n",
       "\n",
       "#sk-container-id-2 div.sk-label label {\n",
       "  font-family: monospace;\n",
       "  font-weight: bold;\n",
       "  display: inline-block;\n",
       "  line-height: 1.2em;\n",
       "}\n",
       "\n",
       "#sk-container-id-2 div.sk-label-container {\n",
       "  text-align: center;\n",
       "}\n",
       "\n",
       "/* Estimator-specific */\n",
       "#sk-container-id-2 div.sk-estimator {\n",
       "  font-family: monospace;\n",
       "  border: 1px dotted var(--sklearn-color-border-box);\n",
       "  border-radius: 0.25em;\n",
       "  box-sizing: border-box;\n",
       "  margin-bottom: 0.5em;\n",
       "  /* unfitted */\n",
       "  background-color: var(--sklearn-color-unfitted-level-0);\n",
       "}\n",
       "\n",
       "#sk-container-id-2 div.sk-estimator.fitted {\n",
       "  /* fitted */\n",
       "  background-color: var(--sklearn-color-fitted-level-0);\n",
       "}\n",
       "\n",
       "/* on hover */\n",
       "#sk-container-id-2 div.sk-estimator:hover {\n",
       "  /* unfitted */\n",
       "  background-color: var(--sklearn-color-unfitted-level-2);\n",
       "}\n",
       "\n",
       "#sk-container-id-2 div.sk-estimator.fitted:hover {\n",
       "  /* fitted */\n",
       "  background-color: var(--sklearn-color-fitted-level-2);\n",
       "}\n",
       "\n",
       "/* Specification for estimator info (e.g. \"i\" and \"?\") */\n",
       "\n",
       "/* Common style for \"i\" and \"?\" */\n",
       "\n",
       ".sk-estimator-doc-link,\n",
       "a:link.sk-estimator-doc-link,\n",
       "a:visited.sk-estimator-doc-link {\n",
       "  float: right;\n",
       "  font-size: smaller;\n",
       "  line-height: 1em;\n",
       "  font-family: monospace;\n",
       "  background-color: var(--sklearn-color-background);\n",
       "  border-radius: 1em;\n",
       "  height: 1em;\n",
       "  width: 1em;\n",
       "  text-decoration: none !important;\n",
       "  margin-left: 0.5em;\n",
       "  text-align: center;\n",
       "  /* unfitted */\n",
       "  border: var(--sklearn-color-unfitted-level-1) 1pt solid;\n",
       "  color: var(--sklearn-color-unfitted-level-1);\n",
       "}\n",
       "\n",
       ".sk-estimator-doc-link.fitted,\n",
       "a:link.sk-estimator-doc-link.fitted,\n",
       "a:visited.sk-estimator-doc-link.fitted {\n",
       "  /* fitted */\n",
       "  border: var(--sklearn-color-fitted-level-1) 1pt solid;\n",
       "  color: var(--sklearn-color-fitted-level-1);\n",
       "}\n",
       "\n",
       "/* On hover */\n",
       "div.sk-estimator:hover .sk-estimator-doc-link:hover,\n",
       ".sk-estimator-doc-link:hover,\n",
       "div.sk-label-container:hover .sk-estimator-doc-link:hover,\n",
       ".sk-estimator-doc-link:hover {\n",
       "  /* unfitted */\n",
       "  background-color: var(--sklearn-color-unfitted-level-3);\n",
       "  color: var(--sklearn-color-background);\n",
       "  text-decoration: none;\n",
       "}\n",
       "\n",
       "div.sk-estimator.fitted:hover .sk-estimator-doc-link.fitted:hover,\n",
       ".sk-estimator-doc-link.fitted:hover,\n",
       "div.sk-label-container:hover .sk-estimator-doc-link.fitted:hover,\n",
       ".sk-estimator-doc-link.fitted:hover {\n",
       "  /* fitted */\n",
       "  background-color: var(--sklearn-color-fitted-level-3);\n",
       "  color: var(--sklearn-color-background);\n",
       "  text-decoration: none;\n",
       "}\n",
       "\n",
       "/* Span, style for the box shown on hovering the info icon */\n",
       ".sk-estimator-doc-link span {\n",
       "  display: none;\n",
       "  z-index: 9999;\n",
       "  position: relative;\n",
       "  font-weight: normal;\n",
       "  right: .2ex;\n",
       "  padding: .5ex;\n",
       "  margin: .5ex;\n",
       "  width: min-content;\n",
       "  min-width: 20ex;\n",
       "  max-width: 50ex;\n",
       "  color: var(--sklearn-color-text);\n",
       "  box-shadow: 2pt 2pt 4pt #999;\n",
       "  /* unfitted */\n",
       "  background: var(--sklearn-color-unfitted-level-0);\n",
       "  border: .5pt solid var(--sklearn-color-unfitted-level-3);\n",
       "}\n",
       "\n",
       ".sk-estimator-doc-link.fitted span {\n",
       "  /* fitted */\n",
       "  background: var(--sklearn-color-fitted-level-0);\n",
       "  border: var(--sklearn-color-fitted-level-3);\n",
       "}\n",
       "\n",
       ".sk-estimator-doc-link:hover span {\n",
       "  display: block;\n",
       "}\n",
       "\n",
       "/* \"?\"-specific style due to the `<a>` HTML tag */\n",
       "\n",
       "#sk-container-id-2 a.estimator_doc_link {\n",
       "  float: right;\n",
       "  font-size: 1rem;\n",
       "  line-height: 1em;\n",
       "  font-family: monospace;\n",
       "  background-color: var(--sklearn-color-background);\n",
       "  border-radius: 1rem;\n",
       "  height: 1rem;\n",
       "  width: 1rem;\n",
       "  text-decoration: none;\n",
       "  /* unfitted */\n",
       "  color: var(--sklearn-color-unfitted-level-1);\n",
       "  border: var(--sklearn-color-unfitted-level-1) 1pt solid;\n",
       "}\n",
       "\n",
       "#sk-container-id-2 a.estimator_doc_link.fitted {\n",
       "  /* fitted */\n",
       "  border: var(--sklearn-color-fitted-level-1) 1pt solid;\n",
       "  color: var(--sklearn-color-fitted-level-1);\n",
       "}\n",
       "\n",
       "/* On hover */\n",
       "#sk-container-id-2 a.estimator_doc_link:hover {\n",
       "  /* unfitted */\n",
       "  background-color: var(--sklearn-color-unfitted-level-3);\n",
       "  color: var(--sklearn-color-background);\n",
       "  text-decoration: none;\n",
       "}\n",
       "\n",
       "#sk-container-id-2 a.estimator_doc_link.fitted:hover {\n",
       "  /* fitted */\n",
       "  background-color: var(--sklearn-color-fitted-level-3);\n",
       "}\n",
       "</style><div id=\"sk-container-id-2\" class=\"sk-top-container\"><div class=\"sk-text-repr-fallback\"><pre>BayesianRidge()</pre><b>In a Jupyter environment, please rerun this cell to show the HTML representation or trust the notebook. <br />On GitHub, the HTML representation is unable to render, please try loading this page with nbviewer.org.</b></div><div class=\"sk-container\" hidden><div class=\"sk-item\"><div class=\"sk-estimator fitted sk-toggleable\"><input class=\"sk-toggleable__control sk-hidden--visually\" id=\"sk-estimator-id-2\" type=\"checkbox\" checked><label for=\"sk-estimator-id-2\" class=\"sk-toggleable__label fitted sk-toggleable__label-arrow\"><div><div>BayesianRidge</div></div><div><a class=\"sk-estimator-doc-link fitted\" rel=\"noreferrer\" target=\"_blank\" href=\"https://scikit-learn.org/1.6/modules/generated/sklearn.linear_model.BayesianRidge.html\">?<span>Documentation for BayesianRidge</span></a><span class=\"sk-estimator-doc-link fitted\">i<span>Fitted</span></span></div></label><div class=\"sk-toggleable__content fitted\"><pre>BayesianRidge()</pre></div> </div></div></div></div>"
      ],
      "text/plain": [
       "BayesianRidge()"
      ]
     },
     "execution_count": 40,
     "metadata": {},
     "output_type": "execute_result"
    }
   ],
   "source": [
    "from sklearn.linear_model import BayesianRidge\n",
    "model = BayesianRidge()\n",
    "model.fit(X_train, y_train)"
   ]
  },
  {
   "cell_type": "code",
   "execution_count": 41,
   "id": "e53ded04-253c-4108-8a08-0f0ae1e13f5f",
   "metadata": {},
   "outputs": [],
   "source": [
    "df_final_input['Predicted Overcrowding Rate (2021)'] = model.predict(\n",
    "    df_final_input[['Overcrowding Rate 2011', 'Final TD 2021']]\n",
    ")"
   ]
  },
  {
   "cell_type": "markdown",
   "id": "90d75a95-f667-4a86-99e3-a7f72d58092e",
   "metadata": {},
   "source": [
    "### Use predicted values to fill only missing values"
   ]
  },
  {
   "cell_type": "code",
   "execution_count": 42,
   "id": "ef2fc9ed-5e89-4303-b9ff-6b24d6ce2c4d",
   "metadata": {},
   "outputs": [],
   "source": [
    "df_final_input['Final Overcrowding Rate (2021)'] = df_final_input['Overcrowding Rate 2021']\n",
    "\n",
    "df_final_input.loc[\n",
    "    df_final_input['Final Overcrowding Rate (2021)'].isnull(), \n",
    "    'Final Overcrowding Rate (2021)'\n",
    "    ] = df_final_input['Predicted Overcrowding Rate (2021)']\n",
    "\n",
    "df_final_input['Source'] = df_final_input['Overcrowding Rate 2021'].apply(\n",
    "    lambda x: 'Observed' if pd.notnull(x) else 'Imputed'\n",
    ")"
   ]
  },
  {
   "cell_type": "code",
   "execution_count": 43,
   "id": "a13905aa-9696-402e-8420-1f1b005a78f0",
   "metadata": {},
   "outputs": [],
   "source": [
    "final_path = os.path.join(cleaned_path, \"Final_results.xlsx\")\n",
    "df_final_input.to_excel(final_path, index=False)"
   ]
  },
  {
   "cell_type": "markdown",
   "id": "db80cbc0-ef6c-4b5e-ba41-eee725c97aa4",
   "metadata": {},
   "source": [
    "### Evaluation for Bayesian Ridge Regression"
   ]
  },
  {
   "cell_type": "code",
   "execution_count": 44,
   "id": "9d96d502-4b77-470c-aed5-fd748916448a",
   "metadata": {},
   "outputs": [],
   "source": [
    "from sklearn.metrics import mean_squared_error, mean_absolute_error, r2_score\n",
    "import numpy as np"
   ]
  },
  {
   "cell_type": "code",
   "execution_count": 45,
   "id": "2f2590e8-318f-4542-8930-49541fac7bc0",
   "metadata": {},
   "outputs": [
    {
     "name": "stdout",
     "output_type": "stream",
     "text": [
      "{'RMSE': 1.279, 'MAE': 0.883, 'R² Score': 0.862, 'Training Samples': 306}\n"
     ]
    }
   ],
   "source": [
    "train_rows = df_final_input[df_final_input['Source'] == 'Observed']\n",
    "\n",
    "y_true = train_rows['Overcrowding Rate 2021']\n",
    "y_pred = train_rows['Predicted Overcrowding Rate (2021)']\n",
    "\n",
    "rmse = np.sqrt(mean_squared_error(y_true, y_pred))\n",
    "mae = mean_absolute_error(y_true, y_pred)\n",
    "r2 = r2_score(y_true, y_pred)\n",
    "\n",
    "summary = {\n",
    "    \"RMSE\": round(rmse, 3),\n",
    "    \"MAE\": round(mae, 3),\n",
    "    \"R² Score\": round(r2, 3),\n",
    "    \"Training Samples\": len(train_rows)\n",
    "}\n",
    "print(summary)\n",
    "summary = pd.DataFrame([summary])\n",
    "path_for_dict = os.path.join(cleaned_path, \"summaryPredictions.xlsx\")\n",
    "summary.to_excel(path_for_dict, index=False)"
   ]
  },
  {
   "cell_type": "code",
   "execution_count": 46,
   "id": "562bb6a6-fdfe-4923-a6c1-7631aad6c19c",
   "metadata": {},
   "outputs": [
    {
     "data": {
      "image/png": "[encoded data removed]",
      "text/plain": [
       "<Figure size 800x600 with 1 Axes>"
      ]
     },
     "metadata": {},
     "output_type": "display_data"
    },
    {
     "name": "stdout",
     "output_type": "stream",
     "text": [
      "2.1241122813767452 24.158708995991585\n"
     ]
    }
   ],
   "source": [
    "import matplotlib.pyplot as plt\n",
    "\n",
    "# Scatter plot of actual vs predicted overcrowding rate (2021)\n",
    "plt.figure(figsize=(8, 6))\n",
    "plt.scatter(y_true, y_pred, alpha=0.7, edgecolors='k')\n",
    "plt.plot([y_true.min(), y_true.max()], [y_true.min(), y_true.max()], 'r--', lw=2)\n",
    "plt.xlabel('Actual Overcrowding Rate (2021)')\n",
    "plt.ylabel('Predicted Overcrowding Rate (2021)')\n",
    "plt.title('Bayesian Ridge Prediction vs. Actual (2021)')\n",
    "plt.grid(True)\n",
    "plt.tight_layout()\n",
    "plt.savefig(\"Error Rates.png\")\n",
    "plt.show()\n",
    "print(y_true.min(), y_true.max())"
   ]
  },
  {
   "cell_type": "markdown",
   "id": "b052494f-5828-449a-b485-e346a129c492",
   "metadata": {},
   "source": [
    "### Exporting the plot to Tableau"
   ]
  },
  {
   "cell_type": "code",
   "execution_count": 47,
   "id": "9d9f6d78-fd7a-41cb-b1f1-d65b995c888f",
   "metadata": {},
   "outputs": [
    {
     "name": "stdout",
     "output_type": "stream",
     "text": [
      "Index(['Local Authority', 'Total Dwellings 2011', 'Overcrowding Rate 2011',\n",
      "       'Final TD 2021', 'Overcrowding Rate 2021',\n",
      "       'Predicted Overcrowding Rate (2021)', 'Final Overcrowding Rate (2021)',\n",
      "       'Source'],\n",
      "      dtype='object')\n"
     ]
    }
   ],
   "source": [
    "print(train_rows.columns)\n",
    "results_df = pd.DataFrame({\n",
    "    \"Local Authority\": train_rows[\"Local Authority\"],\n",
    "    \"Actual Overcrowding Rate (2021)\": y_true,\n",
    "    \"Predicted Overcrowding Rate (2021)\": y_pred,\n",
    "    \"Error\": y_true - y_pred\n",
    "})\n",
    "\n",
    "predplot_path = os.path.join(cleaned_path, \"BayesianPred.xlsx\")\n",
    "results_df.to_excel(predplot_path, index=False)"
   ]
  },
  {
   "cell_type": "markdown",
   "id": "8f1e3f10-0ce0-4c92-a663-f9fdc3a563a0",
   "metadata": {},
   "source": [
    "## Pivoting Columns from the other 2011 data"
   ]
  },
  {
   "cell_type": "code",
   "execution_count": 48,
   "id": "a1166f4b-3cf2-4d0b-8cfb-019ccc44dfdf",
   "metadata": {},
   "outputs": [],
   "source": [
    "combined_data.columns = combined_data.columns.str.replace(r'\\s+', ' ', regex=True).str.strip()\n",
    "combined_2011 = combined_data[combined_data['Year'] == 2011].copy()"
   ]
  },
  {
   "cell_type": "code",
   "execution_count": 49,
   "id": "a436940b-723a-48d4-8b0f-9bd850a59b6a",
   "metadata": {},
   "outputs": [
    {
     "name": "stdout",
     "output_type": "stream",
     "text": [
      "Index(['Ethnic Group', 'local authority: district / unitary', 'Areacode',\n",
      "       'Whole house or bungalow: Total', 'Whole house or bungalow: Detached',\n",
      "       'Whole house or bungalow: Semi-detached',\n",
      "       'Whole house or bungalow: Terraced',\n",
      "       'Flat, maisonette or apartment, or mobile/temporary accommodation'],\n",
      "      dtype='object')\n"
     ]
    }
   ],
   "source": [
    "lc_path = os.path.join(data_path, \"Cleaned Data\", \"LC2121EW.xlsx\")\n",
    "LC2121EW = pd.read_excel(lc_path)\n",
    "LC2121EW.columns = LC2121EW.columns.str.replace(r'\\s+', ' ', regex=True).str.strip()\n",
    "print(LC2121EW.columns)"
   ]
  },
  {
   "cell_type": "code",
   "execution_count": 50,
   "id": "eacb3e1a-0417-4ca8-adfd-6684405500f5",
   "metadata": {},
   "outputs": [
    {
     "name": "stdout",
     "output_type": "stream",
     "text": [
      "Index(['Rural Urban', 'local authority: district / unitary', 'Areacode',\n",
      "       'Unshared dwelling: Total',\n",
      "       'Unshared dwelling: Whole house or bungalow: Total',\n",
      "       'Unshared dwelling: Whole house or bungalow: Detached',\n",
      "       'Unshared dwelling: Whole house or bungalow: Semi-detached',\n",
      "       'Unshared dwelling: Whole house or bungalow: Terraced',\n",
      "       'Unshared dwelling: Flat, maisonette or apartment: Total',\n",
      "       'Unshared dwelling: Flat, maisonette or apartment: Purpose-built block of flats or tenement',\n",
      "       'Unshared dwelling: Flat, maisonette or apartment: Part of a converted or shared house',\n",
      "       'Unshared dwelling: Flat, maisonette or apartment: In commercial building',\n",
      "       'Unshared dwelling: Caravan or other mobile or temporary structure',\n",
      "       'Shared dwelling'],\n",
      "      dtype='object')\n"
     ]
    }
   ],
   "source": [
    "qs_path = os.path.join(data_path, \"Cleaned Data\", \"QS402EW.xlsx\")\n",
    "QS402EW = pd.read_excel(qs_path)\n",
    "QS402EW.columns = QS402EW.columns.str.replace(r'\\s+', ' ', regex=True).str.strip()\n",
    "print(QS402EW.columns)"
   ]
  },
  {
   "cell_type": "markdown",
   "id": "9e3fc9bc-7b92-4f92-b3a1-aadcdbe4467e",
   "metadata": {},
   "source": [
    "## Merge with other data"
   ]
  },
  {
   "cell_type": "code",
   "execution_count": 51,
   "id": "6fd917f3-f2ef-429e-b216-b098bca5317e",
   "metadata": {},
   "outputs": [],
   "source": [
    "LC_pivot = LC2121EW.pivot_table(\n",
    "    index=['local authority: district / unitary', 'Areacode'],\n",
    "    columns='Ethnic Group',\n",
    "    values='Whole house or bungalow: Total',\n",
    "    aggfunc='sum'\n",
    ").reset_index()"
   ]
  },
  {
   "cell_type": "code",
   "execution_count": 52,
   "id": "e5d5fa38-9da9-4466-8c53-1cf6d96d9c24",
   "metadata": {},
   "outputs": [],
   "source": [
    "QS_pivot = QS402EW.pivot_table(\n",
    "    index=['local authority: district / unitary', 'Areacode'],\n",
    "    columns='Rural Urban',\n",
    "    values='Unshared dwelling: Total',\n",
    "    aggfunc='sum'\n",
    ").reset_index()"
   ]
  },
  {
   "cell_type": "markdown",
   "id": "a5987c9d-c3c7-4910-883c-b095e77041cc",
   "metadata": {},
   "source": [
    "### Aggregating the 2011 by Local Authority"
   ]
  },
  {
   "cell_type": "code",
   "execution_count": 53,
   "id": "472a3d1a-690a-4413-b90b-63dfc6c13a13",
   "metadata": {},
   "outputs": [],
   "source": [
    "combined_agg = combined_2011.groupby(\n",
    "    ['local authority: district / unitary', 'Areacode']\n",
    ")[['Total Dwellings', 'Overcrowded Dwellings']].sum().reset_index()"
   ]
  },
  {
   "cell_type": "markdown",
   "id": "bb96ddd0-ba08-4479-a8fa-b2fbaa264cf0",
   "metadata": {},
   "source": [
    "### Merging"
   ]
  },
  {
   "cell_type": "code",
   "execution_count": 54,
   "id": "0f611ca1-86db-4c6a-bf70-c9512de7c036",
   "metadata": {},
   "outputs": [],
   "source": [
    "merged_features = combined_agg.merge(LC_pivot, on=['local authority: district / unitary', 'Areacode'], how='left')\n",
    "merged_features = merged_features.merge(QS_pivot, on=['local authority: district / unitary', 'Areacode'], how='left')"
   ]
  },
  {
   "cell_type": "code",
   "execution_count": 55,
   "id": "f2b87b86-c323-4982-833c-8fd9784f2101",
   "metadata": {},
   "outputs": [
    {
     "name": "stdout",
     "output_type": "stream",
     "text": [
      "Index(['local authority: district / unitary', 'Areacode', 'Total Dwellings',\n",
      "       'Overcrowded Dwellings', 'Asian/Asian British',\n",
      "       'Black/African/Caribbean/Black British', 'Mixed/multiple ethnic group',\n",
      "       'Other ethnic group', 'White: Total', 'Rural (total)', 'Urban (total)'],\n",
      "      dtype='object')\n"
     ]
    }
   ],
   "source": [
    "print(merged_features.columns)"
   ]
  },
  {
   "cell_type": "markdown",
   "id": "28250f9f-e86f-4c83-a702-bb27c8d09a50",
   "metadata": {},
   "source": [
    "# Dimensionality Reduction"
   ]
  },
  {
   "cell_type": "code",
   "execution_count": 56,
   "id": "5c00303a-2e51-45ba-ac8c-d42d29d5a2d3",
   "metadata": {},
   "outputs": [],
   "source": [
    "from sklearn.preprocessing import StandardScaler\n",
    "from sklearn.manifold import TSNE\n",
    "import umap.umap_ as umap"
   ]
  },
  {
   "cell_type": "code",
   "execution_count": 57,
   "id": "15107b27-9d82-4854-8290-5b7b450d7a06",
   "metadata": {},
   "outputs": [],
   "source": [
    "numeric_features = merged_features.drop(columns=['local authority: district / unitary', 'Areacode'])\n",
    "scaler = StandardScaler()\n",
    "X_scaled = scaler.fit_transform(numeric_features.fillna(0))"
   ]
  },
  {
   "cell_type": "code",
   "execution_count": 58,
   "id": "6a017fe8-72ba-4412-9eb2-896c99378aed",
   "metadata": {},
   "outputs": [],
   "source": [
    "tsne = TSNE(n_components=2, random_state=2555304, perplexity=30)\n",
    "tsne_embedding = tsne.fit_transform(X_scaled)"
   ]
  },
  {
   "cell_type": "code",
   "execution_count": 59,
   "id": "b5e6b9c5-f8fc-4404-a8fb-c275b3c6c9cc",
   "metadata": {},
   "outputs": [
    {
     "name": "stderr",
     "output_type": "stream",
     "text": [
      "E:\\AcademicsAndMiscellaneous\\anaconda3\\envs\\text_analytics\\Lib\\site-packages\\sklearn\\utils\\deprecation.py:151: FutureWarning: 'force_all_finite' was renamed to 'ensure_all_finite' in 1.6 and will be removed in 1.8.\n",
      "  warnings.warn(\n"
     ]
    }
   ],
   "source": [
    "umap_model = umap.UMAP(n_components=2, n_neighbors=15, min_dist=0.1)\n",
    "umap_embedding = umap_model.fit_transform(X_scaled)"
   ]
  },
  {
   "cell_type": "code",
   "execution_count": 60,
   "id": "236ea0d4-1958-4968-8414-f3d2c569e60d",
   "metadata": {},
   "outputs": [],
   "source": [
    "merged_features['tSNE-1'] = tsne_embedding[:, 0]\n",
    "merged_features['tSNE-2'] = tsne_embedding[:, 1]\n",
    "merged_features['UMAP-1'] = umap_embedding[:, 0]\n",
    "merged_features['UMAP-2'] = umap_embedding[:, 1]"
   ]
  },
  {
   "cell_type": "code",
   "execution_count": 61,
   "id": "aa2fb110-c01b-4f6c-90da-32b75a3e653f",
   "metadata": {},
   "outputs": [],
   "source": [
    "merged_path = os.path.join(cleaned_path, \"merged_final.xlsx\")\n",
    "merged_features.to_excel(merged_path, index=False)"
   ]
  },
  {
   "cell_type": "markdown",
   "id": "aa8f8f14-1d02-4a5d-8d82-671e1e1a6c1d",
   "metadata": {},
   "source": [
    "## K-Means Clustering"
   ]
  },
  {
   "cell_type": "code",
   "execution_count": 62,
   "id": "8f0a0ab6-7e4f-4394-b2d4-e82a4ba78ed1",
   "metadata": {},
   "outputs": [],
   "source": [
    "from sklearn.cluster import KMeans\n",
    "from sklearn.metrics import silhouette_score"
   ]
  },
  {
   "cell_type": "markdown",
   "id": "cf6a2ac4-38fd-424c-9266-96124d45b777",
   "metadata": {},
   "source": [
    "### Cluster Number Definition"
   ]
  },
  {
   "cell_type": "code",
   "execution_count": 63,
   "id": "811ef8e5-b0c6-4ae6-a4c5-456b038c6bb8",
   "metadata": {},
   "outputs": [],
   "source": [
    "results = []\n",
    "k_range = range(2, 11)\n",
    "\n",
    "for method_name, coords in [('UMAP', merged_features[['UMAP-1', 'UMAP-2']].dropna()), \n",
    "                            ('tSNE', merged_features[['tSNE-1', 'tSNE-2']].dropna())]:\n",
    "    inertia_vals = []\n",
    "    silhouette_vals = []\n",
    "    \n",
    "    for k in k_range:\n",
    "        kmeans = KMeans(n_clusters=k, random_state=2555304)\n",
    "        labels = kmeans.fit_predict(coords)\n",
    "        inertia_vals.append(kmeans.inertia_)\n",
    "        silhouette_vals.append(silhouette_score(coords, labels))\n",
    "    \n",
    "    plt.figure(figsize=(6, 4))\n",
    "    plt.plot(k_range, inertia_vals, 'o-')\n",
    "    plt.title(f\"{method_name}: Elbow Method\")\n",
    "    plt.xlabel(\"Number of Clusters (k)\")\n",
    "    plt.ylabel(\"Inertia\")\n",
    "    plt.tight_layout()\n",
    "    plt.savefig(f\"{method_name}_elbow_plot.png\")\n",
    "    plt.close()\n",
    "\n",
    "    plt.figure(figsize=(6, 4))\n",
    "    plt.plot(k_range, silhouette_vals, 'o-')\n",
    "    plt.title(f\"{method_name}: Silhouette Score\")\n",
    "    plt.xlabel(\"Number of Clusters (k)\")\n",
    "    plt.ylabel(\"Silhouette Score\")\n",
    "    plt.tight_layout()\n",
    "    plt.savefig(f\"{method_name}_silhouette_plot.png\")\n",
    "    plt.close()"
   ]
  },
  {
   "cell_type": "code",
   "execution_count": 64,
   "id": "2f404e5d-6ba1-4cb9-ba85-50b3e107cd04",
   "metadata": {},
   "outputs": [],
   "source": [
    "opt_k = 3"
   ]
  },
  {
   "cell_type": "code",
   "execution_count": 65,
   "id": "0ea3aa63-3e1f-4c39-a6b5-f42205a512fe",
   "metadata": {},
   "outputs": [],
   "source": [
    "umapcoords = merged_features[['UMAP-1', 'UMAP-2']]\n",
    "tsnecoords = merged_features[['tSNE-1', 'tSNE-2']]\n",
    "\n",
    "kmeans_umap = KMeans(n_clusters=opt_k)\n",
    "kmeans_tsne = KMeans(n_clusters=opt_k)\n",
    "\n",
    "merged_features['UMAP Cluster'] = kmeans_umap.fit_predict(umapcoords)\n",
    "merged_features['tSNE Cluster'] = kmeans_tsne.fit_predict(tsnecoords)"
   ]
  },
  {
   "cell_type": "code",
   "execution_count": 66,
   "id": "4fe99d4a-6430-46e4-9f16-cf97230d55ce",
   "metadata": {},
   "outputs": [],
   "source": [
    "merged_features.to_excel(merged_path, index=False)"
   ]
  },
  {
   "cell_type": "markdown",
   "id": "7a11f997-d2c7-4d94-985e-536cc1606ea9",
   "metadata": {},
   "source": [
    "## Data Prep for Visualisation"
   ]
  },
  {
   "cell_type": "markdown",
   "id": "a8716734-57c9-4b49-a546-75d21ce375e5",
   "metadata": {},
   "source": [
    "### Wide to Long Formatting"
   ]
  },
  {
   "cell_type": "code",
   "execution_count": 67,
   "id": "d2e6d67f-c01e-41b8-aac3-344d2f1583b8",
   "metadata": {},
   "outputs": [],
   "source": [
    "final_path = os.path.join(cleaned_path, \"Final_results.xlsx\")\n",
    "df_final_input = pd.read_excel(final_path)"
   ]
  },
  {
   "cell_type": "code",
   "execution_count": 68,
   "id": "9be50286-5bf4-4178-9923-e3c33c93ccc7",
   "metadata": {},
   "outputs": [],
   "source": [
    "long_2011 = df_final_input[['Local Authority', 'Overcrowding Rate 2011']].copy()\n",
    "long_2011['Year'] = 2011\n",
    "long_2011['Overcrowding Rate (%)'] = long_2011['Overcrowding Rate 2011']\n",
    "long_2011['Source'] = 'Observed'"
   ]
  },
  {
   "cell_type": "code",
   "execution_count": 69,
   "id": "392117d3-c964-4fb6-913f-958b8d9acd1a",
   "metadata": {},
   "outputs": [],
   "source": [
    "long_2021 = df_final_input[['Local Authority', 'Final Overcrowding Rate (2021)', 'Source']].copy()\n",
    "long_2021['Year'] = 2021\n",
    "long_2021.rename(columns={'Final Overcrowding Rate (2021)': 'Overcrowding Rate (%)'}, inplace=True)"
   ]
  },
  {
   "cell_type": "code",
   "execution_count": 70,
   "id": "39ddc935-a9d7-4609-8a75-aef62098780e",
   "metadata": {},
   "outputs": [],
   "source": [
    "final_long = pd.concat([\n",
    "    long_2011[['Local Authority', 'Year', 'Overcrowding Rate (%)', 'Source']],\n",
    "    long_2021[['Local Authority', 'Year', 'Overcrowding Rate (%)', 'Source']]\n",
    "], ignore_index=True)"
   ]
  },
  {
   "cell_type": "code",
   "execution_count": 71,
   "id": "535fa63b-654d-47e0-b436-6532d224d80f",
   "metadata": {},
   "outputs": [],
   "source": [
    "final_long.to_excel(final_path, index=False)"
   ]
  },
  {
   "cell_type": "markdown",
   "id": "da6abb95-1dfa-4d89-a880-22ae8043658e",
   "metadata": {},
   "source": [
    "### % Housing by Ethnic Group"
   ]
  },
  {
   "cell_type": "code",
   "execution_count": 72,
   "id": "10826a63-ad9c-44a9-b151-cdf21085517d",
   "metadata": {},
   "outputs": [],
   "source": [
    "LC2121EW['Total Dwellings'] = (\n",
    "    LC2121EW['Whole house or bungalow: Total'] +\n",
    "    LC2121EW['Flat, maisonette or apartment, or mobile/temporary accommodation']\n",
    ")\n",
    "\n",
    "LC_pivot = LC2121EW.pivot_table(\n",
    "    index='local authority: district / unitary',\n",
    "    columns='Ethnic Group',\n",
    "    values='Total Dwellings',\n",
    "    aggfunc='sum'\n",
    ").reset_index()"
   ]
  },
  {
   "cell_type": "code",
   "execution_count": 73,
   "id": "b2cbd4e6-5af0-4fe6-9467-d524f84ebd12",
   "metadata": {},
   "outputs": [],
   "source": [
    "LC_pivot['Total Ethnic Housing'] = LC_pivot.drop(columns='local authority: district / unitary').sum(axis=1)\n",
    "\n",
    "for column in LC_pivot.columns[1:-1] :\n",
    "    LC_pivot[column] = (LC_pivot[column] / LC_pivot['Total Ethnic Housing']) * 100"
   ]
  },
  {
   "cell_type": "markdown",
   "id": "576e2ccb-7a49-408f-ae4f-529ba1dcb897",
   "metadata": {},
   "source": [
    "### % Housing by Rural vs Urban"
   ]
  },
  {
   "cell_type": "code",
   "execution_count": 74,
   "id": "1573ae46-7fd9-4322-8d15-401f55ed896c",
   "metadata": {},
   "outputs": [],
   "source": [
    "QS402EW['Total Dwellings'] = (\n",
    "    QS402EW['Unshared dwelling: Total'] +\n",
    "    QS402EW['Shared dwelling']\n",
    ")\n",
    "\n",
    "QS_pivot = QS402EW.pivot_table(\n",
    "    index='local authority: district / unitary',\n",
    "    columns='Rural Urban',\n",
    "    values='Total Dwellings',\n",
    "    aggfunc='sum'\n",
    ").reset_index()\n",
    "\n",
    "QS_pivot.columns.name = None  # remove column name assigned by pivot\n",
    "QS_pivot.rename(columns={\n",
    "    'Urban (total)': 'Urban',\n",
    "    'Rural (total)': 'Rural'\n",
    "}, inplace=True)"
   ]
  },
  {
   "cell_type": "code",
   "execution_count": 75,
   "id": "7351540c-69b4-4250-a6e9-4a39230578df",
   "metadata": {},
   "outputs": [],
   "source": [
    "QS_pivot['Total Dwellings RU'] = QS_pivot[['Urban', 'Rural']].fillna(0).sum(axis=1)\n",
    "\n",
    "QS_pivot['Urban (%)'] = QS_pivot['Urban'] / QS_pivot['Total Dwellings RU']*100\n",
    "QS_pivot['Rural (%)'] = QS_pivot['Rural'] / QS_pivot['Total Dwellings RU']*100"
   ]
  },
  {
   "cell_type": "code",
   "execution_count": 76,
   "id": "77b3f425-790c-43ab-b900-1d78a467b227",
   "metadata": {},
   "outputs": [],
   "source": [
    "Enriched = merged_features.merge(LC_pivot, on='local authority: district / unitary', how='left')\n",
    "Enriched = Enriched.merge(QS_pivot, on='local authority: district / unitary', how='left')"
   ]
  },
  {
   "cell_type": "code",
   "execution_count": 77,
   "id": "e4847b03-124a-4737-b60c-8c792a020a70",
   "metadata": {},
   "outputs": [
    {
     "name": "stdout",
     "output_type": "stream",
     "text": [
      "Index(['local authority: district / unitary', 'Areacode', 'Total Dwellings',\n",
      "       'Overcrowded Dwellings', 'Asian/Asian British_x',\n",
      "       'Black/African/Caribbean/Black British_x',\n",
      "       'Mixed/multiple ethnic group_x', 'Other ethnic group_x',\n",
      "       'White: Total_x', 'Rural (total)', 'Urban (total)', 'tSNE-1', 'tSNE-2',\n",
      "       'UMAP-1', 'UMAP-2', 'UMAP Cluster', 'tSNE Cluster',\n",
      "       'Asian/Asian British_y', 'Black/African/Caribbean/Black British_y',\n",
      "       'Mixed/multiple ethnic group_y', 'Other ethnic group_y',\n",
      "       'White: Total_y', 'Total Ethnic Housing', 'Rural', 'Urban',\n",
      "       'Total Dwellings RU', 'Urban (%)', 'Rural (%)'],\n",
      "      dtype='object')\n"
     ]
    }
   ],
   "source": [
    "print(Enriched.columns)"
   ]
  },
  {
   "cell_type": "markdown",
   "id": "98cb9d41-e334-449f-801e-5e6a23803505",
   "metadata": {},
   "source": [
    "### Fix naming and keep only relevant columns"
   ]
  },
  {
   "cell_type": "code",
   "execution_count": 78,
   "id": "e0504570-5dcb-4bec-a4f7-117edf98f409",
   "metadata": {},
   "outputs": [
    {
     "name": "stdout",
     "output_type": "stream",
     "text": [
      "Index(['local authority: district / unitary', 'Areacode', 'Total Dwellings',\n",
      "       'Overcrowded Dwellings', 'Asian/Asian British_x',\n",
      "       'Black/African/Caribbean/Black British_x',\n",
      "       'Mixed/multiple ethnic group_x', 'Other ethnic group_x',\n",
      "       'White: Total_x', 'Rural (total)', 'Urban (total)', 'tSNE-1', 'tSNE-2',\n",
      "       'UMAP-1', 'UMAP-2', 'UMAP Cluster', 'tSNE Cluster', 'Asian (%)',\n",
      "       'Black (%)', 'Mixed (%)', 'Other (%)', 'White (%)',\n",
      "       'Total Ethnic Dwellings', 'Rural', 'Urban',\n",
      "       'Total Dwellings (Urban + Rural)', 'Urban (%)', 'Rural (%)'],\n",
      "      dtype='object')\n"
     ]
    },
    {
     "data": {
      "text/plain": [
       "\"\\n'local authority: district / unitary', 'Areacode', 'Total Dwellings',\\n       'Overcrowded Dwellings',\\n       'Rural (total)', 'Urban (total)', 'tSNE-1', 'tSNE-2',\\n       'UMAP-1', 'UMAP-2', 'UMAP Cluster', 'tSNE Cluster', 'Asian (%)',\\n       'Black (%)', 'Mixed (%)', 'Other (%)', 'White (%)',\\n       'Total Ethnic Dwellings',\\n       'Total Dwellings (Urban + Rural)', 'Urban (%)', 'Rural (%)'\\n\""
      ]
     },
     "execution_count": 78,
     "metadata": {},
     "output_type": "execute_result"
    }
   ],
   "source": [
    "Enriched.rename(columns={\n",
    "    'White: Total_y': 'White (%)',\n",
    "    'Asian/Asian British_y': 'Asian (%)',\n",
    "    'Black/African/Caribbean/Black British_y': 'Black (%)',\n",
    "    'Mixed/multiple ethnic group_y': 'Mixed (%)',\n",
    "    'Other ethnic group_y': 'Other (%)',\n",
    "    'Urban (total)_y': 'Urban (%)',\n",
    "    'Rural (total)_y': 'Rural (%)',\n",
    "    'Total Ethnic Housing': 'Total Ethnic Dwellings',\n",
    "    'Total Dwellings RU': 'Total Dwellings (Urban + Rural)',\n",
    "}, inplace=True)\n",
    "\n",
    "print(Enriched.columns)\n",
    "\n",
    "Enriched.drop(columns=[\n",
    "    'White: Total_x',\n",
    "    'Asian/Asian British_x',\n",
    "    'Black/African/Caribbean/Black British_x',\n",
    "    'Mixed/multiple ethnic group_x',\n",
    "    'Other ethnic group_x',\n",
    "    'Urban',\n",
    "    'Rural'\n",
    "], inplace=True)\n",
    "\n",
    "\"\"\"\n",
    "'local authority: district / unitary', 'Areacode', 'Total Dwellings',\n",
    "       'Overcrowded Dwellings',\n",
    "       'Rural (total)', 'Urban (total)', 'tSNE-1', 'tSNE-2',\n",
    "       'UMAP-1', 'UMAP-2', 'UMAP Cluster', 'tSNE Cluster', 'Asian (%)',\n",
    "       'Black (%)', 'Mixed (%)', 'Other (%)', 'White (%)',\n",
    "       'Total Ethnic Dwellings',\n",
    "       'Total Dwellings (Urban + Rural)', 'Urban (%)', 'Rural (%)'\n",
    "\"\"\""
   ]
  },
  {
   "cell_type": "code",
   "execution_count": 85,
   "id": "f7f1a3da-0b9d-42b0-9fa2-32cd0f9828cb",
   "metadata": {},
   "outputs": [],
   "source": [
    "Enriched['Overcrowding Rate (%)'] = (Enriched['Overcrowded Dwellings'] / Enriched['Total Dwellings'])\n",
    "enriched_path = os.path.join(cleaned_path, \"Enriched.xlsx\")\n",
    "Enriched.to_excel(enriched_path, index=False)"
   ]
  },
  {
   "cell_type": "code",
   "execution_count": 105,
   "id": "792e7101-954c-4035-9d48-71f35716ddd8",
   "metadata": {},
   "outputs": [],
   "source": [
    "ethnicity_cols = ['Asian (%)', 'Black (%)', 'Mixed (%)', 'Other (%)', 'White (%)']\n",
    "target_col = 'Overcrowding Rate (%)'"
   ]
  },
  {
   "cell_type": "code",
   "execution_count": 106,
   "id": "91bce856-5b34-4ef8-90af-b4a5934c77e2",
   "metadata": {},
   "outputs": [],
   "source": [
    "correlations = Enriched[ethnicity_cols + [target_col]].corr()[target_col].drop(target_col)\n",
    "mean_correlation = correlations.mean()\n",
    "mean_abs_correlation = correlations.abs().mean()"
   ]
  },
  {
   "cell_type": "markdown",
   "id": "104076ac-06ac-4008-b10c-03f1e09c3a3d",
   "metadata": {},
   "source": [
    "### Some data manipulation for the correlation chart in Tableau to match with Ethnicity parameter"
   ]
  },
  {
   "cell_type": "code",
   "execution_count": 107,
   "id": "9517645c-928b-4368-8b19-e508f101162e",
   "metadata": {},
   "outputs": [
    {
     "name": "stdout",
     "output_type": "stream",
     "text": [
      "Asian (%)    0.813582\n",
      "Black (%)    0.833854\n",
      "Mixed (%)    0.773022\n",
      "Other (%)    0.762683\n",
      "White (%)   -0.927078\n",
      "Name: Overcrowding Rate (%), dtype: float64 \n",
      " 0.4512122526349123 0.8220436384626713\n",
      "<class 'pandas.core.frame.DataFrame'>\n"
     ]
    }
   ],
   "source": [
    "print(correlations, \"\\n\", mean_correlation, mean_abs_correlation)\n",
    "correlations = correlations.rename_axis('EthnicityPer').reset_index()\n",
    "print(type(correlations))"
   ]
  },
  {
   "cell_type": "code",
   "execution_count": 108,
   "id": "f9aa5e4e-43a5-45b6-be1c-2a279c5f7784",
   "metadata": {},
   "outputs": [
    {
     "name": "stdout",
     "output_type": "stream",
     "text": [
      "  EthnicityPer  Overcrowding Rate (%)\n",
      "0        Asian               0.813582\n",
      "1        Black               0.833854\n",
      "2        Mixed               0.773022\n",
      "3        Other               0.762683\n",
      "4        White              -0.927078\n"
     ]
    }
   ],
   "source": [
    "correlations[\"EthnicityPer\"] = correlations[\"EthnicityPer\"].str.replace(r\" \\(%\\)\", \"\", regex=True)\n",
    "print(correlations)"
   ]
  },
  {
   "cell_type": "code",
   "execution_count": 109,
   "id": "3ac9f006-77f6-4bd9-b703-fc7b3a04368a",
   "metadata": {},
   "outputs": [],
   "source": [
    "ethnicityCorr_path = os.path.join(cleaned_path, \"ethnicityCorr.xlsx\")\n",
    "correlations.to_excel(ethnicityCorr_path, index=False)"
   ]
  }
 ],
 "metadata": {
  "kernelspec": {
   "display_name": "text_analytics",
   "language": "python",
   "name": "text_analytics"
  },
  "language_info": {
   "codemirror_mode": {
    "name": "ipython",
    "version": 3
   },
   "file_extension": ".py",
   "mimetype": "text/x-python",
   "name": "python",
   "nbconvert_exporter": "python",
   "pygments_lexer": "ipython3",
   "version": "3.11.11"
  }
 },
 "nbformat": 4,
 "nbformat_minor": 5
}
